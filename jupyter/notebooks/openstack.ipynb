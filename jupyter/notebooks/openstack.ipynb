{
 "cells": [
  {
   "cell_type": "code",
   "execution_count": 2,
   "metadata": {},
   "outputs": [],
   "source": [
    "from services.utils.openstack import SwiftClient\n",
    "from services.utils.directory_utils import get_tmpdir\n",
    "import os\n",
    "\n",
    "client = SwiftClient()\n",
    "client.get_containers()\n",
    "\n",
    "edf_regex = r\".*\\.edf$\"\n",
    "client.list_objects(\"data\", edf_regex)\n",
    "\n",
    "tmpdir = get_tmpdir()\n",
    "client.write_object_to_local(\n",
    "    os.path.join(tmpdir, \"test.edf\"),\n",
    "    container_name=\"data\",\n",
    "    object_name=\"jkb/08_Bubble-Nets_LBAS_01_ALLWHALES_10Hz_GYRonly.edf\",\n",
    ")\n",
    "\n",
    "client.put_object(\n",
    "    container_name=\"data\",\n",
    "    object_name=\"jkb/test.edf\",\n",
    "    contents=os.path.join(tmpdir, \"test.edf\").read(),\n",
    ")"
   ]
  },
  {
   "cell_type": "code",
   "execution_count": null,
   "metadata": {},
   "outputs": [],
   "source": []
  }
 ],
 "metadata": {
  "kernelspec": {
   "display_name": "Python 3 (ipykernel)",
   "language": "python",
   "name": "python3"
  },
  "language_info": {
   "codemirror_mode": {
    "name": "ipython",
    "version": 3
   },
   "file_extension": ".py",
   "mimetype": "text/x-python",
   "name": "python",
   "nbconvert_exporter": "python",
   "pygments_lexer": "ipython3",
   "version": "3.12.5"
  }
 },
 "nbformat": 4,
 "nbformat_minor": 2
}
