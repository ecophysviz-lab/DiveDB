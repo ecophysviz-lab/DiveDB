{
 "cells": [
  {
   "cell_type": "code",
   "execution_count": null,
   "metadata": {},
   "outputs": [],
   "source": [
    "from keystoneauth1 import loading, session\n",
    "from swiftclient import client as swiftclient\n",
    "\n",
    "auth_url = 'https://your-openstack-url:5000/v3'\n",
    "username = 'your_username'\n",
    "password = 'your_password'\n",
    "project_name = 'your_project_name'\n",
    "user_domain_name = 'Default'\n",
    "project_domain_name = 'Default'\n",
    "\n",
    "loader = loading.get_plugin_loader('password')\n",
    "auth = loader.load_from_options(auth_url=auth_url,\n",
    "                                username=username,\n",
    "                                password=password,\n",
    "                                project_name=project_name,\n",
    "                                user_domain_name=user_domain_name,\n",
    "                                project_domain_name=project_domain_name)\n",
    "sess = session.Session(auth=auth)\n",
    "swift = swiftclient.Connection(session=sess)"
   ]
  }
 ],
 "metadata": {
  "kernelspec": {
   "display_name": "Python 3 (ipykernel)",
   "language": "python",
   "name": "python3"
  }
 },
 "nbformat": 4,
 "nbformat_minor": 2
}
