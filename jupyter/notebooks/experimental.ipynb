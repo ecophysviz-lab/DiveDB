{
 "cells": [
  {
   "cell_type": "code",
   "execution_count": 1,
   "metadata": {},
   "outputs": [
    {
     "name": "stderr",
     "output_type": "stream",
     "text": [
      "/usr/local/lib/python3.12/site-packages/pydantic/_internal/_generate_schema.py:404: UserWarning: <cyfunction schema at 0xffff294bfb90> is not a Python type (it may be an instance of an object), Pydantic will allow any object with no validation since we cannot even enforce that the input is an instance of the given type. To get rid of this error wrap the type with `pydantic.SkipValidation`.\n",
      "  warn(\n",
      "/usr/local/lib/python3.12/site-packages/pydantic/_internal/_fields.py:201: UserWarning: Field name \"schema\" in \"ProcessEdf\" shadows an attribute in parent \"V2ValidatedFunction.create_model.<locals>.DecoratorBaseModel\"\n",
      "  warnings.warn(\n"
     ]
    },
    {
     "data": {
      "text/html": [
       "<pre style=\"white-space:pre;overflow-x:auto;line-height:normal;font-family:Menlo,'DejaVu Sans Mono',consolas,'Courier New',monospace\">01:21:27.319 | <span style=\"color: #008080; text-decoration-color: #008080\">INFO</span>    | root - Starting Main...\n",
       "</pre>\n"
      ],
      "text/plain": [
       "01:21:27.319 | \u001b[36mINFO\u001b[0m    | root - Starting Main...\n"
      ]
     },
     "metadata": {},
     "output_type": "display_data"
    },
    {
     "name": "stderr",
     "output_type": "stream",
     "text": [
      "/usr/local/lib/python3.12/site-packages/pydantic/_internal/_fields.py:201: UserWarning: Field name \"schema\" in \"ProcessEdf\" shadows an attribute in parent \"V2ValidatedFunction.create_model.<locals>.DecoratorBaseModel\"\n",
      "  warnings.warn(\n",
      "/usr/local/lib/python3.12/site-packages/pydantic/_internal/_generate_schema.py:404: UserWarning: <cyfunction schema at 0xffff294bfb90> is not a Python type (it may be an instance of an object), Pydantic will allow any object with no validation since we cannot even enforce that the input is an instance of the given type. To get rid of this error wrap the type with `pydantic.SkipValidation`.\n",
      "  warn(\n"
     ]
    },
    {
     "data": {
      "text/html": [
       "<pre style=\"white-space:pre;overflow-x:auto;line-height:normal;font-family:Menlo,'DejaVu Sans Mono',consolas,'Courier New',monospace\">01:21:27.430 | <span style=\"color: #008080; text-decoration-color: #008080\">INFO</span>    | prefect.engine - Created flow run<span style=\"color: #800080; text-decoration-color: #800080\"> 'hidden-lemming'</span> for flow<span style=\"color: #800080; text-decoration-color: #800080; font-weight: bold\"> 'process-edf'</span>\n",
       "</pre>\n"
      ],
      "text/plain": [
       "01:21:27.430 | \u001b[36mINFO\u001b[0m    | prefect.engine - Created flow run\u001b[35m 'hidden-lemming'\u001b[0m for flow\u001b[1;35m 'process-edf'\u001b[0m\n"
      ]
     },
     "metadata": {},
     "output_type": "display_data"
    },
    {
     "data": {
      "text/html": [
       "<pre style=\"white-space:pre;overflow-x:auto;line-height:normal;font-family:Menlo,'DejaVu Sans Mono',consolas,'Courier New',monospace\">01:21:27.431 | <span style=\"color: #008080; text-decoration-color: #008080\">INFO</span>    | Flow run<span style=\"color: #800080; text-decoration-color: #800080\"> 'hidden-lemming'</span> - View at <span style=\"color: #0000ff; text-decoration-color: #0000ff\">http://prefect:4200/flow-runs/flow-run/64ce5d9e-e047-4573-beb0-c926f5258b8b</span>\n",
       "</pre>\n"
      ],
      "text/plain": [
       "01:21:27.431 | \u001b[36mINFO\u001b[0m    | Flow run\u001b[35m 'hidden-lemming'\u001b[0m - View at \u001b[94mhttp://prefect:4200/flow-runs/flow-run/64ce5d9e-e047-4573-beb0-c926f5258b8b\u001b[0m\n"
      ]
     },
     "metadata": {},
     "output_type": "display_data"
    },
    {
     "data": {
      "text/html": [
       "<pre style=\"white-space:pre;overflow-x:auto;line-height:normal;font-family:Menlo,'DejaVu Sans Mono',consolas,'Courier New',monospace\">01:21:27.432 | <span style=\"color: #008080; text-decoration-color: #008080\">INFO</span>    | prefect.task_runner.dask - Creating a new Dask cluster with `distributed.deploy.local.LocalCluster`\n",
       "</pre>\n"
      ],
      "text/plain": [
       "01:21:27.432 | \u001b[36mINFO\u001b[0m    | prefect.task_runner.dask - Creating a new Dask cluster with `distributed.deploy.local.LocalCluster`\n"
      ]
     },
     "metadata": {},
     "output_type": "display_data"
    },
    {
     "data": {
      "text/html": [
       "<pre style=\"white-space:pre;overflow-x:auto;line-height:normal;font-family:Menlo,'DejaVu Sans Mono',consolas,'Courier New',monospace\">01:21:27.449 | <span style=\"color: #008080; text-decoration-color: #008080\">INFO</span>    | distributed.http.proxy - To route to workers diagnostics web server please install jupyter-server-proxy: python -m pip install jupyter-server-proxy\n",
       "</pre>\n"
      ],
      "text/plain": [
       "01:21:27.449 | \u001b[36mINFO\u001b[0m    | distributed.http.proxy - To route to workers diagnostics web server please install jupyter-server-proxy: python -m pip install jupyter-server-proxy\n"
      ]
     },
     "metadata": {},
     "output_type": "display_data"
    },
    {
     "data": {
      "text/html": [
       "<pre style=\"white-space:pre;overflow-x:auto;line-height:normal;font-family:Menlo,'DejaVu Sans Mono',consolas,'Courier New',monospace\">01:21:27.453 | <span style=\"color: #008080; text-decoration-color: #008080\">INFO</span>    | distributed.scheduler - State start\n",
       "</pre>\n"
      ],
      "text/plain": [
       "01:21:27.453 | \u001b[36mINFO\u001b[0m    | distributed.scheduler - State start\n"
      ]
     },
     "metadata": {},
     "output_type": "display_data"
    },
    {
     "data": {
      "text/html": [
       "<pre style=\"white-space:pre;overflow-x:auto;line-height:normal;font-family:Menlo,'DejaVu Sans Mono',consolas,'Courier New',monospace\">01:21:27.454 | <span style=\"color: #008080; text-decoration-color: #008080\">INFO</span>    | distributed.diskutils - Found stale lock file and directory '/tmp/dask-scratch-space/scheduler-xk_9r2d5', purging\n",
       "</pre>\n"
      ],
      "text/plain": [
       "01:21:27.454 | \u001b[36mINFO\u001b[0m    | distributed.diskutils - Found stale lock file and directory '/tmp/dask-scratch-space/scheduler-xk_9r2d5', purging\n"
      ]
     },
     "metadata": {},
     "output_type": "display_data"
    },
    {
     "data": {
      "text/html": [
       "<pre style=\"white-space:pre;overflow-x:auto;line-height:normal;font-family:Menlo,'DejaVu Sans Mono',consolas,'Courier New',monospace\">01:21:27.465 | <span style=\"color: #008080; text-decoration-color: #008080\">INFO</span>    | distributed.diskutils - Found stale lock file and directory '/tmp/dask-scratch-space/worker-fbbi24ga', purging\n",
       "</pre>\n"
      ],
      "text/plain": [
       "01:21:27.465 | \u001b[36mINFO\u001b[0m    | distributed.diskutils - Found stale lock file and directory '/tmp/dask-scratch-space/worker-fbbi24ga', purging\n"
      ]
     },
     "metadata": {},
     "output_type": "display_data"
    },
    {
     "data": {
      "text/html": [
       "<pre style=\"white-space:pre;overflow-x:auto;line-height:normal;font-family:Menlo,'DejaVu Sans Mono',consolas,'Courier New',monospace\">01:21:27.466 | <span style=\"color: #008080; text-decoration-color: #008080\">INFO</span>    | distributed.diskutils - Found stale lock file and directory '/tmp/dask-scratch-space/worker-suk_5dnz', purging\n",
       "</pre>\n"
      ],
      "text/plain": [
       "01:21:27.466 | \u001b[36mINFO\u001b[0m    | distributed.diskutils - Found stale lock file and directory '/tmp/dask-scratch-space/worker-suk_5dnz', purging\n"
      ]
     },
     "metadata": {},
     "output_type": "display_data"
    },
    {
     "data": {
      "text/html": [
       "<pre style=\"white-space:pre;overflow-x:auto;line-height:normal;font-family:Menlo,'DejaVu Sans Mono',consolas,'Courier New',monospace\">01:21:27.468 | <span style=\"color: #008080; text-decoration-color: #008080\">INFO</span>    | distributed.diskutils - Found stale lock file and directory '/tmp/dask-scratch-space/worker-n8qz2e_x', purging\n",
       "</pre>\n"
      ],
      "text/plain": [
       "01:21:27.468 | \u001b[36mINFO\u001b[0m    | distributed.diskutils - Found stale lock file and directory '/tmp/dask-scratch-space/worker-n8qz2e_x', purging\n"
      ]
     },
     "metadata": {},
     "output_type": "display_data"
    },
    {
     "data": {
      "text/html": [
       "<pre style=\"white-space:pre;overflow-x:auto;line-height:normal;font-family:Menlo,'DejaVu Sans Mono',consolas,'Courier New',monospace\">01:21:27.469 | <span style=\"color: #008080; text-decoration-color: #008080\">INFO</span>    | distributed.diskutils - Found stale lock file and directory '/tmp/dask-scratch-space/worker-1lmmg1uj', purging\n",
       "</pre>\n"
      ],
      "text/plain": [
       "01:21:27.469 | \u001b[36mINFO\u001b[0m    | distributed.diskutils - Found stale lock file and directory '/tmp/dask-scratch-space/worker-1lmmg1uj', purging\n"
      ]
     },
     "metadata": {},
     "output_type": "display_data"
    },
    {
     "data": {
      "text/html": [
       "<pre style=\"white-space:pre;overflow-x:auto;line-height:normal;font-family:Menlo,'DejaVu Sans Mono',consolas,'Courier New',monospace\">01:21:27.472 | <span style=\"color: #008080; text-decoration-color: #008080\">INFO</span>    | distributed.scheduler -   Scheduler at:     tcp://127.0.0.1:44279\n",
       "</pre>\n"
      ],
      "text/plain": [
       "01:21:27.472 | \u001b[36mINFO\u001b[0m    | distributed.scheduler -   Scheduler at:     tcp://127.0.0.1:44279\n"
      ]
     },
     "metadata": {},
     "output_type": "display_data"
    },
    {
     "data": {
      "text/html": [
       "<pre style=\"white-space:pre;overflow-x:auto;line-height:normal;font-family:Menlo,'DejaVu Sans Mono',consolas,'Courier New',monospace\">01:21:27.473 | <span style=\"color: #008080; text-decoration-color: #008080\">INFO</span>    | distributed.scheduler -   dashboard at:  <span style=\"color: #0000ff; text-decoration-color: #0000ff\">http://127.0.0.1:8787/status</span>\n",
       "</pre>\n"
      ],
      "text/plain": [
       "01:21:27.473 | \u001b[36mINFO\u001b[0m    | distributed.scheduler -   dashboard at:  \u001b[94mhttp://127.0.0.1:8787/status\u001b[0m\n"
      ]
     },
     "metadata": {},
     "output_type": "display_data"
    },
    {
     "data": {
      "text/html": [
       "<pre style=\"white-space:pre;overflow-x:auto;line-height:normal;font-family:Menlo,'DejaVu Sans Mono',consolas,'Courier New',monospace\">01:21:27.474 | <span style=\"color: #008080; text-decoration-color: #008080\">INFO</span>    | distributed.scheduler - Registering Worker plugin shuffle\n",
       "</pre>\n"
      ],
      "text/plain": [
       "01:21:27.474 | \u001b[36mINFO\u001b[0m    | distributed.scheduler - Registering Worker plugin shuffle\n"
      ]
     },
     "metadata": {},
     "output_type": "display_data"
    },
    {
     "data": {
      "text/html": [
       "<pre style=\"white-space:pre;overflow-x:auto;line-height:normal;font-family:Menlo,'DejaVu Sans Mono',consolas,'Courier New',monospace\">01:21:27.484 | <span style=\"color: #008080; text-decoration-color: #008080\">INFO</span>    | distributed.nanny -         Start Nanny at: 'tcp://127.0.0.1:42415'\n",
       "</pre>\n"
      ],
      "text/plain": [
       "01:21:27.484 | \u001b[36mINFO\u001b[0m    | distributed.nanny -         Start Nanny at: 'tcp://127.0.0.1:42415'\n"
      ]
     },
     "metadata": {},
     "output_type": "display_data"
    },
    {
     "data": {
      "text/html": [
       "<pre style=\"white-space:pre;overflow-x:auto;line-height:normal;font-family:Menlo,'DejaVu Sans Mono',consolas,'Courier New',monospace\">01:21:27.494 | <span style=\"color: #008080; text-decoration-color: #008080\">INFO</span>    | distributed.nanny -         Start Nanny at: 'tcp://127.0.0.1:35947'\n",
       "</pre>\n"
      ],
      "text/plain": [
       "01:21:27.494 | \u001b[36mINFO\u001b[0m    | distributed.nanny -         Start Nanny at: 'tcp://127.0.0.1:35947'\n"
      ]
     },
     "metadata": {},
     "output_type": "display_data"
    },
    {
     "data": {
      "text/html": [
       "<pre style=\"white-space:pre;overflow-x:auto;line-height:normal;font-family:Menlo,'DejaVu Sans Mono',consolas,'Courier New',monospace\">01:21:27.498 | <span style=\"color: #008080; text-decoration-color: #008080\">INFO</span>    | distributed.nanny -         Start Nanny at: 'tcp://127.0.0.1:42981'\n",
       "</pre>\n"
      ],
      "text/plain": [
       "01:21:27.498 | \u001b[36mINFO\u001b[0m    | distributed.nanny -         Start Nanny at: 'tcp://127.0.0.1:42981'\n"
      ]
     },
     "metadata": {},
     "output_type": "display_data"
    },
    {
     "data": {
      "text/html": [
       "<pre style=\"white-space:pre;overflow-x:auto;line-height:normal;font-family:Menlo,'DejaVu Sans Mono',consolas,'Courier New',monospace\">01:21:27.504 | <span style=\"color: #008080; text-decoration-color: #008080\">INFO</span>    | distributed.nanny -         Start Nanny at: 'tcp://127.0.0.1:33267'\n",
       "</pre>\n"
      ],
      "text/plain": [
       "01:21:27.504 | \u001b[36mINFO\u001b[0m    | distributed.nanny -         Start Nanny at: 'tcp://127.0.0.1:33267'\n"
      ]
     },
     "metadata": {},
     "output_type": "display_data"
    },
    {
     "data": {
      "text/html": [
       "<pre style=\"white-space:pre;overflow-x:auto;line-height:normal;font-family:Menlo,'DejaVu Sans Mono',consolas,'Courier New',monospace\">01:21:28.096 | <span style=\"color: #008080; text-decoration-color: #008080\">INFO</span>    | distributed.scheduler - Register worker &lt;WorkerState 'tcp://127.0.0.1:43657', name: 0, status: init, memory: 0, processing: 0&gt;\n",
       "</pre>\n"
      ],
      "text/plain": [
       "01:21:28.096 | \u001b[36mINFO\u001b[0m    | distributed.scheduler - Register worker <WorkerState 'tcp://127.0.0.1:43657', name: 0, status: init, memory: 0, processing: 0>\n"
      ]
     },
     "metadata": {},
     "output_type": "display_data"
    },
    {
     "data": {
      "text/html": [
       "<pre style=\"white-space:pre;overflow-x:auto;line-height:normal;font-family:Menlo,'DejaVu Sans Mono',consolas,'Courier New',monospace\">01:21:28.098 | <span style=\"color: #008080; text-decoration-color: #008080\">INFO</span>    | distributed.scheduler - Starting worker compute stream, tcp://127.0.0.1:43657\n",
       "</pre>\n"
      ],
      "text/plain": [
       "01:21:28.098 | \u001b[36mINFO\u001b[0m    | distributed.scheduler - Starting worker compute stream, tcp://127.0.0.1:43657\n"
      ]
     },
     "metadata": {},
     "output_type": "display_data"
    },
    {
     "data": {
      "text/html": [
       "<pre style=\"white-space:pre;overflow-x:auto;line-height:normal;font-family:Menlo,'DejaVu Sans Mono',consolas,'Courier New',monospace\">01:21:28.099 | <span style=\"color: #008080; text-decoration-color: #008080\">INFO</span>    | distributed.core - Starting established connection to tcp://127.0.0.1:47480\n",
       "</pre>\n"
      ],
      "text/plain": [
       "01:21:28.099 | \u001b[36mINFO\u001b[0m    | distributed.core - Starting established connection to tcp://127.0.0.1:47480\n"
      ]
     },
     "metadata": {},
     "output_type": "display_data"
    },
    {
     "data": {
      "text/html": [
       "<pre style=\"white-space:pre;overflow-x:auto;line-height:normal;font-family:Menlo,'DejaVu Sans Mono',consolas,'Courier New',monospace\">01:21:28.100 | <span style=\"color: #008080; text-decoration-color: #008080\">INFO</span>    | distributed.scheduler - Register worker &lt;WorkerState 'tcp://127.0.0.1:42995', name: 1, status: init, memory: 0, processing: 0&gt;\n",
       "</pre>\n"
      ],
      "text/plain": [
       "01:21:28.100 | \u001b[36mINFO\u001b[0m    | distributed.scheduler - Register worker <WorkerState 'tcp://127.0.0.1:42995', name: 1, status: init, memory: 0, processing: 0>\n"
      ]
     },
     "metadata": {},
     "output_type": "display_data"
    },
    {
     "data": {
      "text/html": [
       "<pre style=\"white-space:pre;overflow-x:auto;line-height:normal;font-family:Menlo,'DejaVu Sans Mono',consolas,'Courier New',monospace\">01:21:28.101 | <span style=\"color: #008080; text-decoration-color: #008080\">INFO</span>    | distributed.scheduler - Starting worker compute stream, tcp://127.0.0.1:42995\n",
       "</pre>\n"
      ],
      "text/plain": [
       "01:21:28.101 | \u001b[36mINFO\u001b[0m    | distributed.scheduler - Starting worker compute stream, tcp://127.0.0.1:42995\n"
      ]
     },
     "metadata": {},
     "output_type": "display_data"
    },
    {
     "data": {
      "text/html": [
       "<pre style=\"white-space:pre;overflow-x:auto;line-height:normal;font-family:Menlo,'DejaVu Sans Mono',consolas,'Courier New',monospace\">01:21:28.102 | <span style=\"color: #008080; text-decoration-color: #008080\">INFO</span>    | distributed.core - Starting established connection to tcp://127.0.0.1:47466\n",
       "</pre>\n"
      ],
      "text/plain": [
       "01:21:28.102 | \u001b[36mINFO\u001b[0m    | distributed.core - Starting established connection to tcp://127.0.0.1:47466\n"
      ]
     },
     "metadata": {},
     "output_type": "display_data"
    },
    {
     "data": {
      "text/html": [
       "<pre style=\"white-space:pre;overflow-x:auto;line-height:normal;font-family:Menlo,'DejaVu Sans Mono',consolas,'Courier New',monospace\">01:21:28.105 | <span style=\"color: #008080; text-decoration-color: #008080\">INFO</span>    | distributed.scheduler - Register worker &lt;WorkerState 'tcp://127.0.0.1:34069', name: 3, status: init, memory: 0, processing: 0&gt;\n",
       "</pre>\n"
      ],
      "text/plain": [
       "01:21:28.105 | \u001b[36mINFO\u001b[0m    | distributed.scheduler - Register worker <WorkerState 'tcp://127.0.0.1:34069', name: 3, status: init, memory: 0, processing: 0>\n"
      ]
     },
     "metadata": {},
     "output_type": "display_data"
    },
    {
     "data": {
      "text/html": [
       "<pre style=\"white-space:pre;overflow-x:auto;line-height:normal;font-family:Menlo,'DejaVu Sans Mono',consolas,'Courier New',monospace\">01:21:28.105 | <span style=\"color: #008080; text-decoration-color: #008080\">INFO</span>    | distributed.scheduler - Starting worker compute stream, tcp://127.0.0.1:34069\n",
       "</pre>\n"
      ],
      "text/plain": [
       "01:21:28.105 | \u001b[36mINFO\u001b[0m    | distributed.scheduler - Starting worker compute stream, tcp://127.0.0.1:34069\n"
      ]
     },
     "metadata": {},
     "output_type": "display_data"
    },
    {
     "data": {
      "text/html": [
       "<pre style=\"white-space:pre;overflow-x:auto;line-height:normal;font-family:Menlo,'DejaVu Sans Mono',consolas,'Courier New',monospace\">01:21:28.106 | <span style=\"color: #008080; text-decoration-color: #008080\">INFO</span>    | distributed.core - Starting established connection to tcp://127.0.0.1:47504\n",
       "</pre>\n"
      ],
      "text/plain": [
       "01:21:28.106 | \u001b[36mINFO\u001b[0m    | distributed.core - Starting established connection to tcp://127.0.0.1:47504\n"
      ]
     },
     "metadata": {},
     "output_type": "display_data"
    },
    {
     "data": {
      "text/html": [
       "<pre style=\"white-space:pre;overflow-x:auto;line-height:normal;font-family:Menlo,'DejaVu Sans Mono',consolas,'Courier New',monospace\">01:21:28.107 | <span style=\"color: #008080; text-decoration-color: #008080\">INFO</span>    | distributed.scheduler - Register worker &lt;WorkerState 'tcp://127.0.0.1:44187', name: 2, status: init, memory: 0, processing: 0&gt;\n",
       "</pre>\n"
      ],
      "text/plain": [
       "01:21:28.107 | \u001b[36mINFO\u001b[0m    | distributed.scheduler - Register worker <WorkerState 'tcp://127.0.0.1:44187', name: 2, status: init, memory: 0, processing: 0>\n"
      ]
     },
     "metadata": {},
     "output_type": "display_data"
    },
    {
     "data": {
      "text/html": [
       "<pre style=\"white-space:pre;overflow-x:auto;line-height:normal;font-family:Menlo,'DejaVu Sans Mono',consolas,'Courier New',monospace\">01:21:28.108 | <span style=\"color: #008080; text-decoration-color: #008080\">INFO</span>    | distributed.scheduler - Starting worker compute stream, tcp://127.0.0.1:44187\n",
       "</pre>\n"
      ],
      "text/plain": [
       "01:21:28.108 | \u001b[36mINFO\u001b[0m    | distributed.scheduler - Starting worker compute stream, tcp://127.0.0.1:44187\n"
      ]
     },
     "metadata": {},
     "output_type": "display_data"
    },
    {
     "data": {
      "text/html": [
       "<pre style=\"white-space:pre;overflow-x:auto;line-height:normal;font-family:Menlo,'DejaVu Sans Mono',consolas,'Courier New',monospace\">01:21:28.108 | <span style=\"color: #008080; text-decoration-color: #008080\">INFO</span>    | distributed.core - Starting established connection to tcp://127.0.0.1:47492\n",
       "</pre>\n"
      ],
      "text/plain": [
       "01:21:28.108 | \u001b[36mINFO\u001b[0m    | distributed.core - Starting established connection to tcp://127.0.0.1:47492\n"
      ]
     },
     "metadata": {},
     "output_type": "display_data"
    },
    {
     "data": {
      "text/html": [
       "<pre style=\"white-space:pre;overflow-x:auto;line-height:normal;font-family:Menlo,'DejaVu Sans Mono',consolas,'Courier New',monospace\">01:21:28.141 | <span style=\"color: #008080; text-decoration-color: #008080\">INFO</span>    | distributed.scheduler - Receive client connection: Client-056e732a-60ee-11ef-82c4-0242ac130003\n",
       "</pre>\n"
      ],
      "text/plain": [
       "01:21:28.141 | \u001b[36mINFO\u001b[0m    | distributed.scheduler - Receive client connection: Client-056e732a-60ee-11ef-82c4-0242ac130003\n"
      ]
     },
     "metadata": {},
     "output_type": "display_data"
    },
    {
     "data": {
      "text/html": [
       "<pre style=\"white-space:pre;overflow-x:auto;line-height:normal;font-family:Menlo,'DejaVu Sans Mono',consolas,'Courier New',monospace\">01:21:28.142 | <span style=\"color: #008080; text-decoration-color: #008080\">INFO</span>    | distributed.core - Starting established connection to tcp://127.0.0.1:47512\n",
       "</pre>\n"
      ],
      "text/plain": [
       "01:21:28.142 | \u001b[36mINFO\u001b[0m    | distributed.core - Starting established connection to tcp://127.0.0.1:47512\n"
      ]
     },
     "metadata": {},
     "output_type": "display_data"
    },
    {
     "data": {
      "text/html": [
       "<pre style=\"white-space:pre;overflow-x:auto;line-height:normal;font-family:Menlo,'DejaVu Sans Mono',consolas,'Courier New',monospace\">01:21:28.143 | <span style=\"color: #008080; text-decoration-color: #008080\">INFO</span>    | prefect.task_runner.dask - The Dask dashboard is available at <span style=\"color: #0000ff; text-decoration-color: #0000ff\">http://127.0.0.1:8787/status</span>\n",
       "</pre>\n"
      ],
      "text/plain": [
       "01:21:28.143 | \u001b[36mINFO\u001b[0m    | prefect.task_runner.dask - The Dask dashboard is available at \u001b[94mhttp://127.0.0.1:8787/status\u001b[0m\n"
      ]
     },
     "metadata": {},
     "output_type": "display_data"
    },
    {
     "name": "stdout",
     "output_type": "stream",
     "text": [
      "Extracting EDF parameters from /data/files/test33_HypoactiveHeidi_05_DAY1_PROCESSED.edf...\n",
      "EDF file detected\n",
      "Setting channel info structure...\n",
      "Creating raw.info structure...\n"
     ]
    },
    {
     "name": "stderr",
     "output_type": "stream",
     "text": [
      "/tmp/ipykernel_708/3153232107.py:70: RuntimeWarning: Channels contain different highpass filters. Highest filter setting will be stored.\n",
      "  raw = mne.io.read_raw_edf(edf_file_path, preload=False)\n",
      "/usr/local/lib/python3.12/site-packages/mne/io/edf/edf.py:782: RuntimeWarning: All-NaN axis encountered\n",
      "  value = np.nanmax([_prefilter_float(x) for x in values])\n",
      "/tmp/ipykernel_708/3153232107.py:70: RuntimeWarning: Channels contain different lowpass filters. Lowest filter setting will be stored.\n",
      "  raw = mne.io.read_raw_edf(edf_file_path, preload=False)\n",
      "/usr/local/lib/python3.12/site-packages/mne/io/edf/edf.py:784: RuntimeWarning: All-NaN axis encountered\n",
      "  value = np.nanmin([_prefilter_float(x) for x in values])\n",
      "/tmp/ipykernel_708/3153232107.py:79: RuntimeWarning: The unit for channel(s) Depth, GyrZ, MagX, MagY, MagZ, Tag_On, heading, pitch, roll has changed from V to NA.\n",
      "  raw.set_channel_types(channel_types)\n"
     ]
    },
    {
     "data": {
      "text/html": [
       "<pre style=\"white-space:pre;overflow-x:auto;line-height:normal;font-family:Menlo,'DejaVu Sans Mono',consolas,'Courier New',monospace\">01:21:28.864 | <span style=\"color: #008080; text-decoration-color: #008080\">INFO</span>    | Flow run<span style=\"color: #800080; text-decoration-color: #800080\"> 'hidden-lemming'</span> - Created task run 'read_signal-0' for task 'read_signal'\n",
       "</pre>\n"
      ],
      "text/plain": [
       "01:21:28.864 | \u001b[36mINFO\u001b[0m    | Flow run\u001b[35m 'hidden-lemming'\u001b[0m - Created task run 'read_signal-0' for task 'read_signal'\n"
      ]
     },
     "metadata": {},
     "output_type": "display_data"
    },
    {
     "data": {
      "text/html": [
       "<pre style=\"white-space:pre;overflow-x:auto;line-height:normal;font-family:Menlo,'DejaVu Sans Mono',consolas,'Courier New',monospace\">01:21:28.876 | <span style=\"color: #008080; text-decoration-color: #008080\">INFO</span>    | Flow run<span style=\"color: #800080; text-decoration-color: #800080\"> 'hidden-lemming'</span> - Submitted task run 'read_signal-0' for execution.\n",
       "</pre>\n"
      ],
      "text/plain": [
       "01:21:28.876 | \u001b[36mINFO\u001b[0m    | Flow run\u001b[35m 'hidden-lemming'\u001b[0m - Submitted task run 'read_signal-0' for execution.\n"
      ]
     },
     "metadata": {},
     "output_type": "display_data"
    },
    {
     "name": "stdout",
     "output_type": "stream",
     "text": [
      "Extracting EDF parameters from /data/files/test33_HypoactiveHeidi_05_DAY1_PROCESSED.edf...\n",
      "EDF file detected\n",
      "Setting channel info structure...\n",
      "Creating raw.info structure...\n"
     ]
    },
    {
     "name": "stderr",
     "output_type": "stream",
     "text": [
      "/tmp/ipykernel_708/3153232107.py:51: RuntimeWarning: Channels contain different highpass filters. Highest filter setting will be stored.\n",
      "/usr/local/lib/python3.12/site-packages/mne/io/edf/edf.py:782: RuntimeWarning: All-NaN axis encountered\n",
      "  value = np.nanmax([_prefilter_float(x) for x in values])\n",
      "/tmp/ipykernel_708/3153232107.py:51: RuntimeWarning: Channels contain different lowpass filters. Lowest filter setting will be stored.\n",
      "/usr/local/lib/python3.12/site-packages/mne/io/edf/edf.py:784: RuntimeWarning: All-NaN axis encountered\n",
      "  value = np.nanmin([_prefilter_float(x) for x in values])\n",
      "01:21:43.405 | \u001b[36mINFO\u001b[0m    | Task run 'read_signal-0' - Finished in state \u001b[32mCompleted\u001b[0m()\n"
     ]
    },
    {
     "data": {
      "text/html": [
       "<pre style=\"white-space:pre;overflow-x:auto;line-height:normal;font-family:Menlo,'DejaVu Sans Mono',consolas,'Courier New',monospace\">01:21:44.088 | <span style=\"color: #008080; text-decoration-color: #008080\">INFO</span>    | Flow run<span style=\"color: #800080; text-decoration-color: #800080\"> 'hidden-lemming'</span> - Created task run 'read_signal-1' for task 'read_signal'\n",
       "</pre>\n"
      ],
      "text/plain": [
       "01:21:44.088 | \u001b[36mINFO\u001b[0m    | Flow run\u001b[35m 'hidden-lemming'\u001b[0m - Created task run 'read_signal-1' for task 'read_signal'\n"
      ]
     },
     "metadata": {},
     "output_type": "display_data"
    },
    {
     "data": {
      "text/html": [
       "<pre style=\"white-space:pre;overflow-x:auto;line-height:normal;font-family:Menlo,'DejaVu Sans Mono',consolas,'Courier New',monospace\">01:21:44.106 | <span style=\"color: #008080; text-decoration-color: #008080\">INFO</span>    | Flow run<span style=\"color: #800080; text-decoration-color: #800080\"> 'hidden-lemming'</span> - Submitted task run 'read_signal-1' for execution.\n",
       "</pre>\n"
      ],
      "text/plain": [
       "01:21:44.106 | \u001b[36mINFO\u001b[0m    | Flow run\u001b[35m 'hidden-lemming'\u001b[0m - Submitted task run 'read_signal-1' for execution.\n"
      ]
     },
     "metadata": {},
     "output_type": "display_data"
    },
    {
     "name": "stdout",
     "output_type": "stream",
     "text": [
      "Extracting EDF parameters from /data/files/test33_HypoactiveHeidi_05_DAY1_PROCESSED.edf...\n",
      "EDF file detected\n",
      "Setting channel info structure...\n",
      "Creating raw.info structure...\n"
     ]
    },
    {
     "name": "stderr",
     "output_type": "stream",
     "text": [
      "/tmp/ipykernel_708/3153232107.py:51: RuntimeWarning: Channels contain different highpass filters. Highest filter setting will be stored.\n",
      "/usr/local/lib/python3.12/site-packages/mne/io/edf/edf.py:782: RuntimeWarning: All-NaN axis encountered\n",
      "  value = np.nanmax([_prefilter_float(x) for x in values])\n",
      "/tmp/ipykernel_708/3153232107.py:51: RuntimeWarning: Channels contain different lowpass filters. Lowest filter setting will be stored.\n",
      "/usr/local/lib/python3.12/site-packages/mne/io/edf/edf.py:784: RuntimeWarning: All-NaN axis encountered\n",
      "  value = np.nanmin([_prefilter_float(x) for x in values])\n",
      "01:21:57.901 | \u001b[36mINFO\u001b[0m    | Task run 'read_signal-1' - Finished in state \u001b[32mCompleted\u001b[0m()\n"
     ]
    },
    {
     "data": {
      "text/html": [
       "<pre style=\"white-space:pre;overflow-x:auto;line-height:normal;font-family:Menlo,'DejaVu Sans Mono',consolas,'Courier New',monospace\">01:21:58.697 | <span style=\"color: #008080; text-decoration-color: #008080\">INFO</span>    | Flow run<span style=\"color: #800080; text-decoration-color: #800080\"> 'hidden-lemming'</span> - Created task run 'read_signal-2' for task 'read_signal'\n",
       "</pre>\n"
      ],
      "text/plain": [
       "01:21:58.697 | \u001b[36mINFO\u001b[0m    | Flow run\u001b[35m 'hidden-lemming'\u001b[0m - Created task run 'read_signal-2' for task 'read_signal'\n"
      ]
     },
     "metadata": {},
     "output_type": "display_data"
    },
    {
     "data": {
      "text/html": [
       "<pre style=\"white-space:pre;overflow-x:auto;line-height:normal;font-family:Menlo,'DejaVu Sans Mono',consolas,'Courier New',monospace\">01:21:58.715 | <span style=\"color: #008080; text-decoration-color: #008080\">INFO</span>    | Flow run<span style=\"color: #800080; text-decoration-color: #800080\"> 'hidden-lemming'</span> - Submitted task run 'read_signal-2' for execution.\n",
       "</pre>\n"
      ],
      "text/plain": [
       "01:21:58.715 | \u001b[36mINFO\u001b[0m    | Flow run\u001b[35m 'hidden-lemming'\u001b[0m - Submitted task run 'read_signal-2' for execution.\n"
      ]
     },
     "metadata": {},
     "output_type": "display_data"
    },
    {
     "name": "stdout",
     "output_type": "stream",
     "text": [
      "Extracting EDF parameters from /data/files/test33_HypoactiveHeidi_05_DAY1_PROCESSED.edf...\n",
      "EDF file detected\n",
      "Setting channel info structure...\n",
      "Creating raw.info structure...\n"
     ]
    },
    {
     "name": "stderr",
     "output_type": "stream",
     "text": [
      "/tmp/ipykernel_708/3153232107.py:51: RuntimeWarning: Channels contain different highpass filters. Highest filter setting will be stored.\n",
      "/usr/local/lib/python3.12/site-packages/mne/io/edf/edf.py:782: RuntimeWarning: All-NaN axis encountered\n",
      "  value = np.nanmax([_prefilter_float(x) for x in values])\n",
      "/tmp/ipykernel_708/3153232107.py:51: RuntimeWarning: Channels contain different lowpass filters. Lowest filter setting will be stored.\n",
      "/usr/local/lib/python3.12/site-packages/mne/io/edf/edf.py:784: RuntimeWarning: All-NaN axis encountered\n",
      "  value = np.nanmin([_prefilter_float(x) for x in values])\n",
      "01:22:14.331 | \u001b[36mINFO\u001b[0m    | Task run 'read_signal-2' - Finished in state \u001b[32mCompleted\u001b[0m()\n"
     ]
    },
    {
     "data": {
      "text/html": [
       "<pre style=\"white-space:pre;overflow-x:auto;line-height:normal;font-family:Menlo,'DejaVu Sans Mono',consolas,'Courier New',monospace\">01:22:14.945 | <span style=\"color: #008080; text-decoration-color: #008080\">INFO</span>    | Flow run<span style=\"color: #800080; text-decoration-color: #800080\"> 'hidden-lemming'</span> - Created task run 'read_signal-3' for task 'read_signal'\n",
       "</pre>\n"
      ],
      "text/plain": [
       "01:22:14.945 | \u001b[36mINFO\u001b[0m    | Flow run\u001b[35m 'hidden-lemming'\u001b[0m - Created task run 'read_signal-3' for task 'read_signal'\n"
      ]
     },
     "metadata": {},
     "output_type": "display_data"
    },
    {
     "data": {
      "text/html": [
       "<pre style=\"white-space:pre;overflow-x:auto;line-height:normal;font-family:Menlo,'DejaVu Sans Mono',consolas,'Courier New',monospace\">01:22:14.965 | <span style=\"color: #008080; text-decoration-color: #008080\">INFO</span>    | Flow run<span style=\"color: #800080; text-decoration-color: #800080\"> 'hidden-lemming'</span> - Submitted task run 'read_signal-3' for execution.\n",
       "</pre>\n"
      ],
      "text/plain": [
       "01:22:14.965 | \u001b[36mINFO\u001b[0m    | Flow run\u001b[35m 'hidden-lemming'\u001b[0m - Submitted task run 'read_signal-3' for execution.\n"
      ]
     },
     "metadata": {},
     "output_type": "display_data"
    },
    {
     "name": "stdout",
     "output_type": "stream",
     "text": [
      "Extracting EDF parameters from /data/files/test33_HypoactiveHeidi_05_DAY1_PROCESSED.edf...\n",
      "EDF file detected\n",
      "Setting channel info structure...\n",
      "Creating raw.info structure...\n"
     ]
    },
    {
     "name": "stderr",
     "output_type": "stream",
     "text": [
      "/tmp/ipykernel_708/3153232107.py:51: RuntimeWarning: Channels contain different highpass filters. Highest filter setting will be stored.\n",
      "/usr/local/lib/python3.12/site-packages/mne/io/edf/edf.py:782: RuntimeWarning: All-NaN axis encountered\n",
      "  value = np.nanmax([_prefilter_float(x) for x in values])\n",
      "/tmp/ipykernel_708/3153232107.py:51: RuntimeWarning: Channels contain different lowpass filters. Lowest filter setting will be stored.\n",
      "/usr/local/lib/python3.12/site-packages/mne/io/edf/edf.py:784: RuntimeWarning: All-NaN axis encountered\n",
      "  value = np.nanmin([_prefilter_float(x) for x in values])\n",
      "01:22:28.828 | \u001b[36mINFO\u001b[0m    | Task run 'read_signal-3' - Finished in state \u001b[32mCompleted\u001b[0m()\n"
     ]
    },
    {
     "data": {
      "text/html": [
       "<pre style=\"white-space:pre;overflow-x:auto;line-height:normal;font-family:Menlo,'DejaVu Sans Mono',consolas,'Courier New',monospace\">01:22:29.470 | <span style=\"color: #008080; text-decoration-color: #008080\">INFO</span>    | Flow run<span style=\"color: #800080; text-decoration-color: #800080\"> 'hidden-lemming'</span> - Created task run 'read_signal-4' for task 'read_signal'\n",
       "</pre>\n"
      ],
      "text/plain": [
       "01:22:29.470 | \u001b[36mINFO\u001b[0m    | Flow run\u001b[35m 'hidden-lemming'\u001b[0m - Created task run 'read_signal-4' for task 'read_signal'\n"
      ]
     },
     "metadata": {},
     "output_type": "display_data"
    },
    {
     "data": {
      "text/html": [
       "<pre style=\"white-space:pre;overflow-x:auto;line-height:normal;font-family:Menlo,'DejaVu Sans Mono',consolas,'Courier New',monospace\">01:22:29.495 | <span style=\"color: #008080; text-decoration-color: #008080\">INFO</span>    | Flow run<span style=\"color: #800080; text-decoration-color: #800080\"> 'hidden-lemming'</span> - Submitted task run 'read_signal-4' for execution.\n",
       "</pre>\n"
      ],
      "text/plain": [
       "01:22:29.495 | \u001b[36mINFO\u001b[0m    | Flow run\u001b[35m 'hidden-lemming'\u001b[0m - Submitted task run 'read_signal-4' for execution.\n"
      ]
     },
     "metadata": {},
     "output_type": "display_data"
    },
    {
     "name": "stdout",
     "output_type": "stream",
     "text": [
      "Extracting EDF parameters from /data/files/test33_HypoactiveHeidi_05_DAY1_PROCESSED.edf...\n",
      "EDF file detected\n",
      "Setting channel info structure...\n",
      "Creating raw.info structure...\n"
     ]
    },
    {
     "name": "stderr",
     "output_type": "stream",
     "text": [
      "/tmp/ipykernel_708/3153232107.py:51: RuntimeWarning: Channels contain different highpass filters. Highest filter setting will be stored.\n",
      "/tmp/ipykernel_708/3153232107.py:51: RuntimeWarning: Channels contain different lowpass filters. Lowest filter setting will be stored.\n",
      "01:22:42.551 | \u001b[36mINFO\u001b[0m    | Task run 'read_signal-4' - Finished in state \u001b[32mCompleted\u001b[0m()\n"
     ]
    },
    {
     "data": {
      "text/html": [
       "<pre style=\"white-space:pre;overflow-x:auto;line-height:normal;font-family:Menlo,'DejaVu Sans Mono',consolas,'Courier New',monospace\">01:22:43.149 | <span style=\"color: #008080; text-decoration-color: #008080\">INFO</span>    | Flow run<span style=\"color: #800080; text-decoration-color: #800080\"> 'hidden-lemming'</span> - Created task run 'read_signal-5' for task 'read_signal'\n",
       "</pre>\n"
      ],
      "text/plain": [
       "01:22:43.149 | \u001b[36mINFO\u001b[0m    | Flow run\u001b[35m 'hidden-lemming'\u001b[0m - Created task run 'read_signal-5' for task 'read_signal'\n"
      ]
     },
     "metadata": {},
     "output_type": "display_data"
    },
    {
     "data": {
      "text/html": [
       "<pre style=\"white-space:pre;overflow-x:auto;line-height:normal;font-family:Menlo,'DejaVu Sans Mono',consolas,'Courier New',monospace\">01:22:43.167 | <span style=\"color: #008080; text-decoration-color: #008080\">INFO</span>    | Flow run<span style=\"color: #800080; text-decoration-color: #800080\"> 'hidden-lemming'</span> - Submitted task run 'read_signal-5' for execution.\n",
       "</pre>\n"
      ],
      "text/plain": [
       "01:22:43.167 | \u001b[36mINFO\u001b[0m    | Flow run\u001b[35m 'hidden-lemming'\u001b[0m - Submitted task run 'read_signal-5' for execution.\n"
      ]
     },
     "metadata": {},
     "output_type": "display_data"
    },
    {
     "name": "stdout",
     "output_type": "stream",
     "text": [
      "Extracting EDF parameters from /data/files/test33_HypoactiveHeidi_05_DAY1_PROCESSED.edf...\n",
      "EDF file detected\n",
      "Setting channel info structure...\n",
      "Creating raw.info structure...\n"
     ]
    },
    {
     "name": "stderr",
     "output_type": "stream",
     "text": [
      "/tmp/ipykernel_708/3153232107.py:51: RuntimeWarning: Channels contain different highpass filters. Highest filter setting will be stored.\n",
      "/tmp/ipykernel_708/3153232107.py:51: RuntimeWarning: Channels contain different lowpass filters. Lowest filter setting will be stored.\n",
      "01:22:57.989 | \u001b[36mINFO\u001b[0m    | Task run 'read_signal-5' - Finished in state \u001b[32mCompleted\u001b[0m()\n"
     ]
    },
    {
     "data": {
      "text/html": [
       "<pre style=\"white-space:pre;overflow-x:auto;line-height:normal;font-family:Menlo,'DejaVu Sans Mono',consolas,'Courier New',monospace\">01:22:58.949 | <span style=\"color: #008080; text-decoration-color: #008080\">INFO</span>    | Flow run<span style=\"color: #800080; text-decoration-color: #800080\"> 'hidden-lemming'</span> - Created task run 'read_signal-6' for task 'read_signal'\n",
       "</pre>\n"
      ],
      "text/plain": [
       "01:22:58.949 | \u001b[36mINFO\u001b[0m    | Flow run\u001b[35m 'hidden-lemming'\u001b[0m - Created task run 'read_signal-6' for task 'read_signal'\n"
      ]
     },
     "metadata": {},
     "output_type": "display_data"
    },
    {
     "data": {
      "text/html": [
       "<pre style=\"white-space:pre;overflow-x:auto;line-height:normal;font-family:Menlo,'DejaVu Sans Mono',consolas,'Courier New',monospace\">01:22:58.970 | <span style=\"color: #008080; text-decoration-color: #008080\">INFO</span>    | Flow run<span style=\"color: #800080; text-decoration-color: #800080\"> 'hidden-lemming'</span> - Submitted task run 'read_signal-6' for execution.\n",
       "</pre>\n"
      ],
      "text/plain": [
       "01:22:58.970 | \u001b[36mINFO\u001b[0m    | Flow run\u001b[35m 'hidden-lemming'\u001b[0m - Submitted task run 'read_signal-6' for execution.\n"
      ]
     },
     "metadata": {},
     "output_type": "display_data"
    },
    {
     "name": "stdout",
     "output_type": "stream",
     "text": [
      "Extracting EDF parameters from /data/files/test33_HypoactiveHeidi_05_DAY1_PROCESSED.edf...\n",
      "EDF file detected\n",
      "Setting channel info structure...\n",
      "Creating raw.info structure...\n"
     ]
    },
    {
     "name": "stderr",
     "output_type": "stream",
     "text": [
      "/tmp/ipykernel_708/3153232107.py:51: RuntimeWarning: Channels contain different highpass filters. Highest filter setting will be stored.\n",
      "/tmp/ipykernel_708/3153232107.py:51: RuntimeWarning: Channels contain different lowpass filters. Lowest filter setting will be stored.\n",
      "01:23:11.265 | \u001b[36mINFO\u001b[0m    | Task run 'read_signal-6' - Finished in state \u001b[32mCompleted\u001b[0m()\n"
     ]
    },
    {
     "data": {
      "text/html": [
       "<pre style=\"white-space:pre;overflow-x:auto;line-height:normal;font-family:Menlo,'DejaVu Sans Mono',consolas,'Courier New',monospace\">01:23:12.047 | <span style=\"color: #008080; text-decoration-color: #008080\">INFO</span>    | Flow run<span style=\"color: #800080; text-decoration-color: #800080\"> 'hidden-lemming'</span> - Created task run 'read_signal-7' for task 'read_signal'\n",
       "</pre>\n"
      ],
      "text/plain": [
       "01:23:12.047 | \u001b[36mINFO\u001b[0m    | Flow run\u001b[35m 'hidden-lemming'\u001b[0m - Created task run 'read_signal-7' for task 'read_signal'\n"
      ]
     },
     "metadata": {},
     "output_type": "display_data"
    },
    {
     "data": {
      "text/html": [
       "<pre style=\"white-space:pre;overflow-x:auto;line-height:normal;font-family:Menlo,'DejaVu Sans Mono',consolas,'Courier New',monospace\">01:23:12.082 | <span style=\"color: #008080; text-decoration-color: #008080\">INFO</span>    | Flow run<span style=\"color: #800080; text-decoration-color: #800080\"> 'hidden-lemming'</span> - Submitted task run 'read_signal-7' for execution.\n",
       "</pre>\n"
      ],
      "text/plain": [
       "01:23:12.082 | \u001b[36mINFO\u001b[0m    | Flow run\u001b[35m 'hidden-lemming'\u001b[0m - Submitted task run 'read_signal-7' for execution.\n"
      ]
     },
     "metadata": {},
     "output_type": "display_data"
    },
    {
     "name": "stdout",
     "output_type": "stream",
     "text": [
      "Extracting EDF parameters from /data/files/test33_HypoactiveHeidi_05_DAY1_PROCESSED.edf...\n",
      "EDF file detected\n",
      "Setting channel info structure...\n",
      "Creating raw.info structure...\n"
     ]
    },
    {
     "name": "stderr",
     "output_type": "stream",
     "text": [
      "/tmp/ipykernel_708/3153232107.py:51: RuntimeWarning: Channels contain different highpass filters. Highest filter setting will be stored.\n",
      "/tmp/ipykernel_708/3153232107.py:51: RuntimeWarning: Channels contain different lowpass filters. Lowest filter setting will be stored.\n",
      "01:23:22.171 | \u001b[36mINFO\u001b[0m    | Task run 'read_signal-7' - Finished in state \u001b[32mCompleted\u001b[0m()\n"
     ]
    },
    {
     "data": {
      "text/html": [
       "<pre style=\"white-space:pre;overflow-x:auto;line-height:normal;font-family:Menlo,'DejaVu Sans Mono',consolas,'Courier New',monospace\">01:23:22.818 | <span style=\"color: #008080; text-decoration-color: #008080\">INFO</span>    | Flow run<span style=\"color: #800080; text-decoration-color: #800080\"> 'hidden-lemming'</span> - Created task run 'read_signal-8' for task 'read_signal'\n",
       "</pre>\n"
      ],
      "text/plain": [
       "01:23:22.818 | \u001b[36mINFO\u001b[0m    | Flow run\u001b[35m 'hidden-lemming'\u001b[0m - Created task run 'read_signal-8' for task 'read_signal'\n"
      ]
     },
     "metadata": {},
     "output_type": "display_data"
    },
    {
     "data": {
      "text/html": [
       "<pre style=\"white-space:pre;overflow-x:auto;line-height:normal;font-family:Menlo,'DejaVu Sans Mono',consolas,'Courier New',monospace\">01:23:22.839 | <span style=\"color: #008080; text-decoration-color: #008080\">INFO</span>    | Flow run<span style=\"color: #800080; text-decoration-color: #800080\"> 'hidden-lemming'</span> - Submitted task run 'read_signal-8' for execution.\n",
       "</pre>\n"
      ],
      "text/plain": [
       "01:23:22.839 | \u001b[36mINFO\u001b[0m    | Flow run\u001b[35m 'hidden-lemming'\u001b[0m - Submitted task run 'read_signal-8' for execution.\n"
      ]
     },
     "metadata": {},
     "output_type": "display_data"
    },
    {
     "name": "stdout",
     "output_type": "stream",
     "text": [
      "Extracting EDF parameters from /data/files/test33_HypoactiveHeidi_05_DAY1_PROCESSED.edf...\n",
      "EDF file detected\n",
      "Setting channel info structure...\n",
      "Creating raw.info structure...\n"
     ]
    },
    {
     "name": "stderr",
     "output_type": "stream",
     "text": [
      "/tmp/ipykernel_708/3153232107.py:51: RuntimeWarning: Channels contain different highpass filters. Highest filter setting will be stored.\n",
      "/tmp/ipykernel_708/3153232107.py:51: RuntimeWarning: Channels contain different lowpass filters. Lowest filter setting will be stored.\n",
      "01:23:31.400 | \u001b[36mINFO\u001b[0m    | Task run 'read_signal-8' - Finished in state \u001b[32mCompleted\u001b[0m()\n"
     ]
    },
    {
     "data": {
      "text/html": [
       "<pre style=\"white-space:pre;overflow-x:auto;line-height:normal;font-family:Menlo,'DejaVu Sans Mono',consolas,'Courier New',monospace\">01:23:55.822 | <span style=\"color: #008080; text-decoration-color: #008080\">INFO</span>    | distributed.core - Event loop was unresponsive in Scheduler for 23.90s.  This is often caused by long-running GIL-holding functions or moving large chunks of data. This can cause timeouts and instability.\n",
       "</pre>\n"
      ],
      "text/plain": [
       "01:23:55.822 | \u001b[36mINFO\u001b[0m    | distributed.core - Event loop was unresponsive in Scheduler for 23.90s.  This is often caused by long-running GIL-holding functions or moving large chunks of data. This can cause timeouts and instability.\n"
      ]
     },
     "metadata": {},
     "output_type": "display_data"
    },
    {
     "data": {
      "text/html": [
       "<pre style=\"white-space:pre;overflow-x:auto;line-height:normal;font-family:Menlo,'DejaVu Sans Mono',consolas,'Courier New',monospace\">01:23:56.058 | <span style=\"color: #008080; text-decoration-color: #008080\">INFO</span>    | distributed.core - Event loop was unresponsive in Nanny for 24.13s.  This is often caused by long-running GIL-holding functions or moving large chunks of data. This can cause timeouts and instability.\n",
       "</pre>\n"
      ],
      "text/plain": [
       "01:23:56.058 | \u001b[36mINFO\u001b[0m    | distributed.core - Event loop was unresponsive in Nanny for 24.13s.  This is often caused by long-running GIL-holding functions or moving large chunks of data. This can cause timeouts and instability.\n"
      ]
     },
     "metadata": {},
     "output_type": "display_data"
    },
    {
     "data": {
      "text/html": [
       "<pre style=\"white-space:pre;overflow-x:auto;line-height:normal;font-family:Menlo,'DejaVu Sans Mono',consolas,'Courier New',monospace\">01:23:56.111 | <span style=\"color: #008080; text-decoration-color: #008080\">INFO</span>    | distributed.core - Event loop was unresponsive in Nanny for 24.19s.  This is often caused by long-running GIL-holding functions or moving large chunks of data. This can cause timeouts and instability.\n",
       "</pre>\n"
      ],
      "text/plain": [
       "01:23:56.111 | \u001b[36mINFO\u001b[0m    | distributed.core - Event loop was unresponsive in Nanny for 24.19s.  This is often caused by long-running GIL-holding functions or moving large chunks of data. This can cause timeouts and instability.\n"
      ]
     },
     "metadata": {},
     "output_type": "display_data"
    },
    {
     "data": {
      "text/html": [
       "<pre style=\"white-space:pre;overflow-x:auto;line-height:normal;font-family:Menlo,'DejaVu Sans Mono',consolas,'Courier New',monospace\">01:23:56.116 | <span style=\"color: #008080; text-decoration-color: #008080\">INFO</span>    | distributed.core - Event loop was unresponsive in Nanny for 24.19s.  This is often caused by long-running GIL-holding functions or moving large chunks of data. This can cause timeouts and instability.\n",
       "</pre>\n"
      ],
      "text/plain": [
       "01:23:56.116 | \u001b[36mINFO\u001b[0m    | distributed.core - Event loop was unresponsive in Nanny for 24.19s.  This is often caused by long-running GIL-holding functions or moving large chunks of data. This can cause timeouts and instability.\n"
      ]
     },
     "metadata": {},
     "output_type": "display_data"
    },
    {
     "data": {
      "text/html": [
       "<pre style=\"white-space:pre;overflow-x:auto;line-height:normal;font-family:Menlo,'DejaVu Sans Mono',consolas,'Courier New',monospace\">01:23:56.232 | <span style=\"color: #008080; text-decoration-color: #008080\">INFO</span>    | distributed.core - Event loop was unresponsive in Nanny for 24.31s.  This is often caused by long-running GIL-holding functions or moving large chunks of data. This can cause timeouts and instability.\n",
       "</pre>\n"
      ],
      "text/plain": [
       "01:23:56.232 | \u001b[36mINFO\u001b[0m    | distributed.core - Event loop was unresponsive in Nanny for 24.31s.  This is often caused by long-running GIL-holding functions or moving large chunks of data. This can cause timeouts and instability.\n"
      ]
     },
     "metadata": {},
     "output_type": "display_data"
    },
    {
     "ename": "",
     "evalue": "",
     "output_type": "error",
     "traceback": [
      "\u001b[1;31mThe Kernel crashed while executing code in the current cell or a previous cell. \n",
      "\u001b[1;31mPlease review the code in the cell(s) to identify a possible cause of the failure. \n",
      "\u001b[1;31mClick <a href='https://aka.ms/vscodeJupyterKernelCrash'>here</a> for more info. \n",
      "\u001b[1;31mView Jupyter <a href='command:jupyter.viewOutput'>log</a> for further details."
     ]
    },
    {
     "ename": "",
     "evalue": "",
     "output_type": "error",
     "traceback": [
      "\u001b[1;31mCanceled future for execute_request message before replies were done"
     ]
    },
    {
     "ename": "",
     "evalue": "",
     "output_type": "error",
     "traceback": [
      "\u001b[1;31mCanceled future for execute_request message before replies were done. \n",
      "\u001b[1;31mView Jupyter <a href='command:jupyter.viewOutput'>log</a> for further details."
     ]
    }
   ],
   "source": [
    "import mne\n",
    "from netCDF4 import Dataset\n",
    "import json\n",
    "import dask.array as da\n",
    "from dask import delayed\n",
    "import os, logging\n",
    "from services.utils.timing import TimingContext\n",
    "import pyarrow as pa\n",
    "from services.delta_lake import Duck_Lake\n",
    "from prefect import flow, task\n",
    "from prefect_dask import DaskTaskRunner\n",
    "from dataclasses import dataclass, asdict\n",
    "from typing import List\n",
    "\n",
    "logging.basicConfig()\n",
    "logging.root.setLevel(logging.INFO)\n",
    "\n",
    "ducklake = Duck_Lake()\n",
    "\n",
    "my_edf_file_path = os.path.join(\n",
    "    os.environ[\"CONTAINER_FILE_STORAGE_PATH\"],\n",
    "    \"test33_HypoactiveHeidi_05_DAY1_PROCESSED.edf\",\n",
    ")\n",
    "my_parquet_output_dir = os.path.join(os.environ[\"CONTAINER_FILE_STORAGE_PATH\"], \"test\")\n",
    "\n",
    "misc_channels = [\n",
    "    \"pitch\",\n",
    "    \"roll\",\n",
    "    \"heading\",\n",
    "    \"GyrZ\",\n",
    "    \"MagZ\",\n",
    "    \"Tag_On\",\n",
    "    \"Depth\",\n",
    "    \"MagX\",\n",
    "    \"MagY\",\n",
    "]\n",
    "\n",
    "@dataclass\n",
    "class SignalSchema:\n",
    "    signal_name: str\n",
    "    frequency: float\n",
    "    start_time: float\n",
    "    data: List[float]\n",
    "\n",
    "@task\n",
    "def read_signal(\n",
    "    edf_file_path,\n",
    "    signal_name,\n",
    "):\n",
    "    \"\"\"Function to read a single signal from an EDF file.\"\"\"\n",
    "    raw = mne.io.read_raw_edf(edf_file_path, preload=False)\n",
    "    signal = raw.pick(signal_name).get_data()\n",
    "    \n",
    "    return SignalSchema(\n",
    "        signal_name=signal_name,\n",
    "        frequency=raw.info[\"sfreq\"],\n",
    "        start_time=pa.scalar(raw.info[\"meas_date\"].timestamp(), type=pa.timestamp('us', tz=\"UTC\")),\n",
    "        # start_time=raw.info[\"meas_date\"],\n",
    "        data=signal[0],\n",
    "    )\n",
    "\n",
    "\n",
    "@flow\n",
    "def process_edf(\n",
    "    edf_file_path: str,\n",
    "    schema: pa.schema,\n",
    "    misc_channels: List[str] = misc_channels,\n",
    "):\n",
    "    with TimingContext(\"EDF Read\"):\n",
    "        raw = mne.io.read_raw_edf(edf_file_path, preload=False)\n",
    "\n",
    "        channel_types = dict()\n",
    "        \n",
    "        for k in raw.ch_names:\n",
    "            if k in misc_channels:\n",
    "                channel_types[k] = \"misc\"\n",
    "            else:\n",
    "                channel_types[k] = \"eeg\"\n",
    "        raw.set_channel_types(channel_types)\n",
    "        \n",
    "        channels_to_use = [ch for ch in raw.ch_names if ch not in misc_channels]\n",
    "        \n",
    "        buff = []\n",
    "        for signal_name in channels_to_use:\n",
    "            signal = read_signal(edf_file_path, signal_name)\n",
    "            buff.append(asdict(signal))\n",
    "        \n",
    "        _ = buff\n",
    "        table = pa.Table.from_pylist(buff, schema=schema)\n",
    "        \n",
    "        ducklake.write_to_delta(\n",
    "            data=table,\n",
    "            schema=schema,\n",
    "            mode=\"append\",\n",
    "            partition_by=['signal_name'],\n",
    "            name=\"test\",\n",
    "            description=\"test\"\n",
    "        )\n",
    "\n",
    "\n",
    "schema = pa.schema(\n",
    "    [\n",
    "        pa.field(\"signal_name\", pa.string()),\n",
    "        pa.field(\"frequency\", pa.float64()),\n",
    "        pa.field(\"start_time\", pa.timestamp('us', tz=\"UTC\")),\n",
    "        pa.field(\"data\", pa.list_(pa.float64())),\n",
    "    ]\n",
    ")\n",
    "\n",
    "with TimingContext(\"Main\"):\n",
    "    process_edf(my_edf_file_path, schema)\n"
   ]
  },
  {
   "cell_type": "code",
   "execution_count": null,
   "metadata": {},
   "outputs": [],
   "source": []
  }
 ],
 "metadata": {
  "kernelspec": {
   "display_name": "Python 3 (ipykernel)",
   "language": "python",
   "name": "python3"
  },
  "language_info": {
   "codemirror_mode": {
    "name": "ipython",
    "version": 3
   },
   "file_extension": ".py",
   "mimetype": "text/x-python",
   "name": "python",
   "nbconvert_exporter": "python",
   "pygments_lexer": "ipython3",
   "version": "3.12.5"
  }
 },
 "nbformat": 4,
 "nbformat_minor": 2
}
