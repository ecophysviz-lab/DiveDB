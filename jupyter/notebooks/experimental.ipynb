{
 "cells": [
  {
   "cell_type": "code",
   "execution_count": 1,
   "metadata": {},
   "outputs": [],
   "source": [
    "import mne\n",
    "from netCDF4 import Dataset\n",
    "import json\n",
    "import dask.array as da\n",
    "from dask import delayed\n",
    "import os, logging\n",
    "from services.utils.timing import TimingContext\n",
    "import pyarrow as pa\n",
    "from services.delta_lake import Duck_Lake\n",
    "from services.utils.directory_utils import get_tmpdir\n",
    "from prefect import flow, task\n",
    "from prefect_dask import DaskTaskRunner\n",
    "from dataclasses import dataclass, asdict\n",
    "from typing import List\n",
    "from uuid import uuid4 as uuid\n",
    "\n",
    "logging.basicConfig()\n",
    "logging.root.setLevel(logging.INFO)\n",
    "\n",
    "ducklake = Duck_Lake()"
   ]
  },
  {
   "cell_type": "code",
   "execution_count": 11,
   "metadata": {},
   "outputs": [
    {
     "name": "stderr",
     "output_type": "stream",
     "text": [
      "/usr/local/lib/python3.12/site-packages/pydantic/_internal/_generate_schema.py:404: UserWarning: <cyfunction schema at 0xffff36129d80> is not a Python type (it may be an instance of an object), Pydantic will allow any object with no validation since we cannot even enforce that the input is an instance of the given type. To get rid of this error wrap the type with `pydantic.SkipValidation`.\n",
      "  warn(\n",
      "/usr/local/lib/python3.12/site-packages/pydantic/_internal/_fields.py:201: UserWarning: Field name \"schema\" in \"ProcessEdf\" shadows an attribute in parent \"V2ValidatedFunction.create_model.<locals>.DecoratorBaseModel\"\n",
      "  warnings.warn(\n",
      "/usr/local/lib/python3.12/site-packages/pydantic/_internal/_fields.py:201: UserWarning: Field name \"schema\" in \"ProcessEdf\" shadows an attribute in parent \"V2ValidatedFunction.create_model.<locals>.DecoratorBaseModel\"\n",
      "  warnings.warn(\n",
      "/usr/local/lib/python3.12/site-packages/pydantic/_internal/_generate_schema.py:404: UserWarning: <cyfunction schema at 0xffff36129d80> is not a Python type (it may be an instance of an object), Pydantic will allow any object with no validation since we cannot even enforce that the input is an instance of the given type. To get rid of this error wrap the type with `pydantic.SkipValidation`.\n",
      "  warn(\n"
     ]
    },
    {
     "data": {
      "text/html": [
       "<pre style=\"white-space:pre;overflow-x:auto;line-height:normal;font-family:Menlo,'DejaVu Sans Mono',consolas,'Courier New',monospace\">02:13:29.826 | <span style=\"color: #008080; text-decoration-color: #008080\">INFO</span>    | prefect.engine - Created flow run<span style=\"color: #800080; text-decoration-color: #800080\"> 'faithful-mammoth'</span> for flow<span style=\"color: #800080; text-decoration-color: #800080; font-weight: bold\"> 'process-edf'</span>\n",
       "</pre>\n"
      ],
      "text/plain": [
       "02:13:29.826 | \u001b[36mINFO\u001b[0m    | prefect.engine - Created flow run\u001b[35m 'faithful-mammoth'\u001b[0m for flow\u001b[1;35m 'process-edf'\u001b[0m\n"
      ]
     },
     "metadata": {},
     "output_type": "display_data"
    },
    {
     "data": {
      "text/html": [
       "<pre style=\"white-space:pre;overflow-x:auto;line-height:normal;font-family:Menlo,'DejaVu Sans Mono',consolas,'Courier New',monospace\">02:13:29.828 | <span style=\"color: #008080; text-decoration-color: #008080\">INFO</span>    | Flow run<span style=\"color: #800080; text-decoration-color: #800080\"> 'faithful-mammoth'</span> - View at <span style=\"color: #0000ff; text-decoration-color: #0000ff\">http://prefect:4200/flow-runs/flow-run/33561671-37e2-488a-a525-d20bf8ef8301</span>\n",
       "</pre>\n"
      ],
      "text/plain": [
       "02:13:29.828 | \u001b[36mINFO\u001b[0m    | Flow run\u001b[35m 'faithful-mammoth'\u001b[0m - View at \u001b[94mhttp://prefect:4200/flow-runs/flow-run/33561671-37e2-488a-a525-d20bf8ef8301\u001b[0m\n"
      ]
     },
     "metadata": {},
     "output_type": "display_data"
    },
    {
     "name": "stdout",
     "output_type": "stream",
     "text": [
      "Extracting EDF parameters from /data/files/test33_HypoactiveHeidi_05_DAY1_PROCESSED.edf...\n",
      "EDF file detected\n",
      "Setting channel info structure...\n",
      "Creating raw.info structure...\n"
     ]
    },
    {
     "name": "stderr",
     "output_type": "stream",
     "text": [
      "/tmp/ipykernel_12/1447355065.py:60: RuntimeWarning: Channels contain different highpass filters. Highest filter setting will be stored.\n",
      "  raw = mne.io.read_raw_edf(edf_file_path, preload=False)\n",
      "/usr/local/lib/python3.12/site-packages/mne/io/edf/edf.py:782: RuntimeWarning: All-NaN axis encountered\n",
      "  value = np.nanmax([_prefilter_float(x) for x in values])\n",
      "/tmp/ipykernel_12/1447355065.py:60: RuntimeWarning: Channels contain different lowpass filters. Lowest filter setting will be stored.\n",
      "  raw = mne.io.read_raw_edf(edf_file_path, preload=False)\n",
      "/usr/local/lib/python3.12/site-packages/mne/io/edf/edf.py:784: RuntimeWarning: All-NaN axis encountered\n",
      "  value = np.nanmin([_prefilter_float(x) for x in values])\n"
     ]
    },
    {
     "data": {
      "text/html": [
       "<pre style=\"white-space:pre;overflow-x:auto;line-height:normal;font-family:Menlo,'DejaVu Sans Mono',consolas,'Courier New',monospace\">02:13:30.117 | <span style=\"color: #008080; text-decoration-color: #008080\">INFO</span>    | Flow run<span style=\"color: #800080; text-decoration-color: #800080\"> 'faithful-mammoth'</span> - Created task run 'read_signal-0' for task 'read_signal'\n",
       "</pre>\n"
      ],
      "text/plain": [
       "02:13:30.117 | \u001b[36mINFO\u001b[0m    | Flow run\u001b[35m 'faithful-mammoth'\u001b[0m - Created task run 'read_signal-0' for task 'read_signal'\n"
      ]
     },
     "metadata": {},
     "output_type": "display_data"
    },
    {
     "data": {
      "text/html": [
       "<pre style=\"white-space:pre;overflow-x:auto;line-height:normal;font-family:Menlo,'DejaVu Sans Mono',consolas,'Courier New',monospace\">02:13:30.119 | <span style=\"color: #008080; text-decoration-color: #008080\">INFO</span>    | Flow run<span style=\"color: #800080; text-decoration-color: #800080\"> 'faithful-mammoth'</span> - Executing 'read_signal-0' immediately...\n",
       "</pre>\n"
      ],
      "text/plain": [
       "02:13:30.119 | \u001b[36mINFO\u001b[0m    | Flow run\u001b[35m 'faithful-mammoth'\u001b[0m - Executing 'read_signal-0' immediately...\n"
      ]
     },
     "metadata": {},
     "output_type": "display_data"
    },
    {
     "name": "stdout",
     "output_type": "stream",
     "text": [
      "Extracting EDF parameters from /data/files/test33_HypoactiveHeidi_05_DAY1_PROCESSED.edf...\n",
      "EDF file detected\n",
      "Setting channel info structure...\n",
      "Creating raw.info structure...\n"
     ]
    },
    {
     "data": {
      "text/html": [
       "<pre style=\"white-space:pre;overflow-x:auto;line-height:normal;font-family:Menlo,'DejaVu Sans Mono',consolas,'Courier New',monospace\">02:13:31.808 | <span style=\"color: #008080; text-decoration-color: #008080\">INFO</span>    | Task run 'read_signal-0' - Finished in state <span style=\"color: #008000; text-decoration-color: #008000\">Completed</span>()\n",
       "</pre>\n"
      ],
      "text/plain": [
       "02:13:31.808 | \u001b[36mINFO\u001b[0m    | Task run 'read_signal-0' - Finished in state \u001b[32mCompleted\u001b[0m()\n"
      ]
     },
     "metadata": {},
     "output_type": "display_data"
    },
    {
     "data": {
      "text/html": [
       "<pre style=\"white-space:pre;overflow-x:auto;line-height:normal;font-family:Menlo,'DejaVu Sans Mono',consolas,'Courier New',monospace\">02:13:31.963 | <span style=\"color: #008080; text-decoration-color: #008080\">INFO</span>    | Flow run<span style=\"color: #800080; text-decoration-color: #800080\"> 'faithful-mammoth'</span> - Finished in state <span style=\"color: #008000; text-decoration-color: #008000\">Completed</span>('All states completed.')\n",
       "</pre>\n"
      ],
      "text/plain": [
       "02:13:31.963 | \u001b[36mINFO\u001b[0m    | Flow run\u001b[35m 'faithful-mammoth'\u001b[0m - Finished in state \u001b[32mCompleted\u001b[0m('All states completed.')\n"
      ]
     },
     "metadata": {},
     "output_type": "display_data"
    }
   ],
   "source": [
    "my_edf_file_path = os.path.join(\n",
    "    os.environ[\"CONTAINER_FILE_STORAGE_PATH\"],\n",
    "    \"test33_HypoactiveHeidi_05_DAY1_PROCESSED.edf\",\n",
    ")\n",
    "my_parquet_output_dir = os.path.join(os.environ[\"CONTAINER_FILE_STORAGE_PATH\"], \"test\")\n",
    "\n",
    "# Non-EEG\n",
    "misc_channels = [\n",
    "    \"pitch\",\n",
    "    \"roll\",\n",
    "    \"heading\",\n",
    "    \"GyrZ\",\n",
    "    \"MagZ\",\n",
    "    \"Tag_On\",\n",
    "    \"Depth\",\n",
    "    \"MagX\",\n",
    "    \"MagY\",\n",
    "]\n",
    "\n",
    "@dataclass\n",
    "class SignalSchema:\n",
    "    signal_name: str\n",
    "    frequency: float\n",
    "    start_time: float\n",
    "    data: List[float]\n",
    "\n",
    "@task\n",
    "def read_signal(\n",
    "    edf_file_path,\n",
    "    signal_name,\n",
    "    mode: str = \"SINGLE\"\n",
    "):\n",
    "    \"\"\"Function to read a single signal from an EDF file.\"\"\"\n",
    "    raw = mne.io.read_raw_edf(edf_file_path, include=[signal_name], preload=False)\n",
    "    signal = raw.pick(signal_name).get_data()\n",
    "    \n",
    "    if mode == 'SINGLE':\n",
    "        return SignalSchema(\n",
    "            signal_name=[signal_name],\n",
    "            frequency=[raw.info[\"sfreq\"]],\n",
    "            start_time=[pa.scalar(raw.info[\"meas_date\"].timestamp(), type=pa.timestamp('us', tz=\"UTC\"))],\n",
    "            data=[signal[0]],\n",
    "        )\n",
    "    if mode == \"TABLE\":\n",
    "        return SignalSchema(\n",
    "            signal_name=signal_name,\n",
    "            frequency=raw.info[\"sfreq\"],\n",
    "            start_time=pa.scalar(raw.info[\"meas_date\"].timestamp(), type=pa.timestamp('us', tz=\"UTC\")),\n",
    "            data=signal[0],\n",
    "        )\n",
    "        \n",
    "\n",
    "\n",
    "@flow\n",
    "def process_edf(\n",
    "    edf_file_path: str,\n",
    "    schema: pa.schema\n",
    "):\n",
    "    with TimingContext(\"EDF Read\"):\n",
    "        buff = []\n",
    "        tmpdir = get_tmpdir()\n",
    "        for signal_name in ['pitch', ]:\n",
    "        # for signal_name in raw.ch_names[0:2]:\n",
    "            signal = read_signal(edf_file_path, signal_name)\n",
    "            table = pa.table(asdict(signal), schema=schema)\n",
    "            fname = os.path.join(tmpdir, f'{signal_name}.parquet')\n",
    "            pa.parquet.write_table(table, fname)\n",
    "            buff.append(fname)\n",
    "        \n",
    "        ducklake.write_parquet_to_delta(\n",
    "            parquet_files=buff,\n",
    "            schema=schema,\n",
    "            mode=\"append\",\n",
    "            partition_by=['signal_name'],\n",
    "            name=\"test\",\n",
    "            description=\"test\"\n",
    "        )\n",
    "\n",
    "\n",
    "schema = pa.schema(\n",
    "    [\n",
    "        pa.field(\"signal_name\", pa.string()),\n",
    "        pa.field(\"frequency\", pa.float64()),\n",
    "        pa.field(\"start_time\", pa.timestamp('us', tz=\"UTC\")),\n",
    "        pa.field(\"data\", pa.list_(pa.float64())),\n",
    "    ]\n",
    ")\n",
    "\n",
    "with TimingContext(\"Main\"):\n",
    "    process_edf(my_edf_file_path, schema)\n"
   ]
  },
  {
   "cell_type": "code",
   "execution_count": 9,
   "metadata": {},
   "outputs": [
    {
     "name": "stdout",
     "output_type": "stream",
     "text": [
      "/data/delta-lake\n"
     ]
    },
    {
     "data": {
      "application/vnd.jupyter.widget-view+json": {
       "model_id": "c6d59739f4d243fc9ecba28332189ea8",
       "version_major": 2,
       "version_minor": 0
      },
      "text/plain": [
       "FloatProgress(value=0.0, layout=Layout(width='auto'), style=ProgressStyle(bar_color='black'))"
      ]
     },
     "metadata": {},
     "output_type": "display_data"
    },
    {
     "data": {
      "text/html": [
       "<div><style>\n",
       ".dataframe > thead > tr,\n",
       ".dataframe > tbody > tr {\n",
       "  text-align: right;\n",
       "  white-space: pre-wrap;\n",
       "}\n",
       "</style>\n",
       "<small>shape: (1, 1)</small><table border=\"1\" class=\"dataframe\"><thead><tr><th>data</th></tr><tr><td>list[f64]</td></tr></thead><tbody><tr><td>[-0.000031, -0.000033, … 0.000175]</td></tr></tbody></table></div>"
      ],
      "text/plain": [
       "shape: (1, 1)\n",
       "┌─────────────────────────────────┐\n",
       "│ data                            │\n",
       "│ ---                             │\n",
       "│ list[f64]                       │\n",
       "╞═════════════════════════════════╡\n",
       "│ [-0.000031, -0.000033, … 0.000… │\n",
       "└─────────────────────────────────┘"
      ]
     },
     "execution_count": 9,
     "metadata": {},
     "output_type": "execute_result"
    }
   ],
   "source": [
    "print(os.environ[\"CONTAINER_DELTA_LAKE_PATH\"])\n",
    "\n",
    "ducklake.conn.execute(\n",
    "    f'''\n",
    "    SELECT data \n",
    "    FROM delta_scan('{os.environ[\"CONTAINER_DELTA_LAKE_PATH\"]}') LIMIT 1\n",
    "    '''\n",
    ").pl()"
   ]
  }
 ],
 "metadata": {
  "kernelspec": {
   "display_name": "Python 3 (ipykernel)",
   "language": "python",
   "name": "python3"
  },
  "language_info": {
   "codemirror_mode": {
    "name": "ipython",
    "version": 3
   },
   "file_extension": ".py",
   "mimetype": "text/x-python",
   "name": "python",
   "nbconvert_exporter": "python",
   "pygments_lexer": "ipython3",
   "version": "3.12.5"
  }
 },
 "nbformat": 4,
 "nbformat_minor": 2
}
