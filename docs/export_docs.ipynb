{
 "cells": [
  {
   "cell_type": "markdown",
   "metadata": {},
   "source": [
    "# Export EDF\n",
    "\n",
    "This notebook demonstrates the process of exporting DiveDB data as an EDF file.\n",
    "\n",
    "While under development, it also contains the prototype (non-library) code; that'll be deleted when this notebook is ready to be merged into the main branch.\n",
    "\n",
    "Punch list:\n",
    "- [x] Make a list\n",
    "- [ ] Understand task :) \n",
    "- [ ] Prototype:\n",
    "    - [ ] Load metadata\n",
    "    - [ ] Load signals\n",
    "    - [ ] Generate EDF file \n",
    "        - [ ] Can mne serve our needs here? Check if multiple sample rates, arbitrary metadata\n",
    "        - [ ] Decide if different library OR extend mne \n",
    "    - [ ] Test EDF file can be opened externally (e.g. via EDF.jl)\n",
    "- [ ] In tests, write (failing) test for basic new functionality\n",
    "- [ ] Turn prototype into library code\n",
    "- [ ] Write up edge case tests\n",
    "    - [ ] Make 'em pass OR file 'em\n",
    "- [ ] Clean up this notebook (delete this punch list!)\n",
    "- [ ] Mark PR ready for review"
   ]
  },
  {
   "cell_type": "markdown",
   "metadata": {},
   "source": [
    "### Prototype"
   ]
  },
  {
   "cell_type": "code",
   "execution_count": null,
   "metadata": {},
   "outputs": [],
   "source": [
    "# 1. Get metadata\n"
   ]
  }
 ],
 "metadata": {
  "kernelspec": {
   "display_name": "Python 3 (ipykernel)",
   "language": "python",
   "name": "python3"
  }
 },
 "nbformat": 4,
 "nbformat_minor": 2
}
