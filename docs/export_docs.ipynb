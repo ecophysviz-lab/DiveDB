{
 "cells": [
  {
   "cell_type": "markdown",
   "metadata": {},
   "source": [
    "# Export EDF\n",
    "\n",
    "This notebook demonstrates the process of exporting DiveDB data as an EDF file.\n",
    "\n",
    "While under development, it also contains the prototype (non-library) code; that'll be deleted when this notebook is ready to be merged into the main branch.\n",
    "\n",
    "Punch list:\n",
    "- [x] Make a list\n",
    "- [x] Understand task :) \n",
    "- [x] Prototype:\n",
    "    - [x] Load basic metadata\n",
    "    - [x] Load signals\n",
    "    - [x] Generate EDF file \n",
    "        - [X] Can mne serve our needs here? Check if multiple sample rates, arbitrary metadata: edfio can!\n",
    "        - [x] Decide if different library OR extend mne: use edfio, which is what mne depends on \n",
    "    - [x] Test EDF file can be opened externally (e.g. through EDF.jl or other app)\n",
    "    - [x] Test EDF encodes max/min values\n",
    "    - [x] Get recording metadata\n",
    "- [x] Turn prototype into library code\n",
    "- [x] Add metadata to EDF header\n",
    "- [ ] Add tests\n",
    "- [ ] Make note of edge case tests to file\n",
    "- [ ] Clean up this notebook (delete this punch list!)\n",
    "- [ ] Mark PR ready for review"
   ]
  },
  {
   "cell_type": "markdown",
   "metadata": {},
   "source": [
    "Reminder: this is the end goal\n",
    "\n",
    "```python\n",
    "# Example of usage once complete\n",
    "\n",
    "from DiveDB.services.duck_pond import DuckPond\n",
    "\n",
    "duckpond = DuckPond(os.environ[\"CONTAINER_DELTA_LAKE_PATH\"])\n",
    "\n",
    "dive_data = duckpond.get_delta_data(    \n",
    "    labels=[\"eeg\"],\n",
    "    animal_ids=\"apfo-001a\",\n",
    ")\n",
    "\n",
    "# dive_data.export_to_edf(\"path_to_output.edf\") # ORIGINALLY took in filepath, adjusted to be directory\n",
    "dive_data.export_to_edf(\"path_to_output_dir\")\n",
    "\n",
    "```"
   ]
  },
  {
   "cell_type": "markdown",
   "metadata": {},
   "source": [
    "### Prototype"
   ]
  },
  {
   "cell_type": "code",
   "execution_count": 1,
   "metadata": {},
   "outputs": [
    {
     "data": {
      "text/html": [
       "<div>\n",
       "<style scoped>\n",
       "    .dataframe tbody tr th:only-of-type {\n",
       "        vertical-align: middle;\n",
       "    }\n",
       "\n",
       "    .dataframe tbody tr th {\n",
       "        vertical-align: top;\n",
       "    }\n",
       "\n",
       "    .dataframe thead th {\n",
       "        text-align: right;\n",
       "    }\n",
       "</style>\n",
       "<table border=\"1\" class=\"dataframe\">\n",
       "  <thead>\n",
       "    <tr style=\"text-align: right;\">\n",
       "      <th></th>\n",
       "      <th>datetime</th>\n",
       "      <th>derived_data_depth</th>\n",
       "    </tr>\n",
       "  </thead>\n",
       "  <tbody>\n",
       "    <tr>\n",
       "      <th>0</th>\n",
       "      <td>2019-11-07 19:50:00+00:00</td>\n",
       "      <td>-1.982753</td>\n",
       "    </tr>\n",
       "    <tr>\n",
       "      <th>1</th>\n",
       "      <td>2019-11-07 19:51:00+00:00</td>\n",
       "      <td>-1.900138</td>\n",
       "    </tr>\n",
       "    <tr>\n",
       "      <th>2</th>\n",
       "      <td>2019-11-07 19:52:00+00:00</td>\n",
       "      <td>-1.660804</td>\n",
       "    </tr>\n",
       "    <tr>\n",
       "      <th>3</th>\n",
       "      <td>2019-11-07 19:53:00+00:00</td>\n",
       "      <td>-1.362733</td>\n",
       "    </tr>\n",
       "    <tr>\n",
       "      <th>4</th>\n",
       "      <td>2019-11-07 19:54:00+00:00</td>\n",
       "      <td>-1.074403</td>\n",
       "    </tr>\n",
       "    <tr>\n",
       "      <th>...</th>\n",
       "      <td>...</td>\n",
       "      <td>...</td>\n",
       "    </tr>\n",
       "    <tr>\n",
       "      <th>173</th>\n",
       "      <td>2019-11-07 22:43:00+00:00</td>\n",
       "      <td>-0.466027</td>\n",
       "    </tr>\n",
       "    <tr>\n",
       "      <th>174</th>\n",
       "      <td>2019-11-07 22:44:00+00:00</td>\n",
       "      <td>-0.794010</td>\n",
       "    </tr>\n",
       "    <tr>\n",
       "      <th>175</th>\n",
       "      <td>2019-11-07 22:45:00+00:00</td>\n",
       "      <td>-1.119214</td>\n",
       "    </tr>\n",
       "    <tr>\n",
       "      <th>176</th>\n",
       "      <td>2019-11-07 22:46:00+00:00</td>\n",
       "      <td>-1.418781</td>\n",
       "    </tr>\n",
       "    <tr>\n",
       "      <th>177</th>\n",
       "      <td>2019-11-07 22:47:00+00:00</td>\n",
       "      <td>-1.611978</td>\n",
       "    </tr>\n",
       "  </tbody>\n",
       "</table>\n",
       "<p>178 rows × 2 columns</p>\n",
       "</div>"
      ],
      "text/plain": [
       "                     datetime  derived_data_depth\n",
       "0   2019-11-07 19:50:00+00:00           -1.982753\n",
       "1   2019-11-07 19:51:00+00:00           -1.900138\n",
       "2   2019-11-07 19:52:00+00:00           -1.660804\n",
       "3   2019-11-07 19:53:00+00:00           -1.362733\n",
       "4   2019-11-07 19:54:00+00:00           -1.074403\n",
       "..                        ...                 ...\n",
       "173 2019-11-07 22:43:00+00:00           -0.466027\n",
       "174 2019-11-07 22:44:00+00:00           -0.794010\n",
       "175 2019-11-07 22:45:00+00:00           -1.119214\n",
       "176 2019-11-07 22:46:00+00:00           -1.418781\n",
       "177 2019-11-07 22:47:00+00:00           -1.611978\n",
       "\n",
       "[178 rows x 2 columns]"
      ]
     },
     "metadata": {},
     "output_type": "display_data"
    }
   ],
   "source": [
    "# Test previous behavior holds\n",
    "import os\n",
    "import importlib\n",
    "import DiveDB.services.duck_pond as dp\n",
    "importlib.reload(dp)\n",
    "\n",
    "duckpond = dp.DuckPond(os.environ[\"CONTAINER_DELTA_LAKE_PATH\"])\n",
    "\n",
    "# Example from the querying_docs notebook\n",
    "data = duckpond.get_delta_data(    \n",
    "    labels=[\"derived_data_depth\"],\n",
    "    animal_ids=\"apfo-001a\",\n",
    "    frequency=1/60,  # Once a minute\n",
    ")\n",
    "display(data)\n"
   ]
  },
  {
   "cell_type": "code",
   "execution_count": 2,
   "metadata": {},
   "outputs": [
    {
     "data": {
      "text/plain": [
       "┌──────────┬─────────┬────────────────────────────┬─────────────────────────────────────────────────────────────────────────────────────────────────────────────────────────────────────────────────────────────────────────────────────────────────────────────────────────────────────────────────────────────────────────────────────────────────────────────────────────────────┬──────────────────────────────────────────────────────────────────────────────────────────────────────────────────────────────────────────────────────────────────────────────────────────────────────────────────────────────────┬───────────┐\n",
       "│ database │ schema  │            name            │                                                                                                                                                          column_names                                                                                                                                                           │                                                                                                           column_types                                                                                                           │ temporary │\n",
       "│ varchar  │ varchar │          varchar           │                                                                                                                                                            varchar[]                                                                                                                                                            │                                                                                                            varchar[]                                                                                                             │  boolean  │\n",
       "├──────────┼─────────┼────────────────────────────┼─────────────────────────────────────────────────────────────────────────────────────────────────────────────────────────────────────────────────────────────────────────────────────────────────────────────────────────────────────────────────────────────────────────────────────────────────────────────────────────────────┼──────────────────────────────────────────────────────────────────────────────────────────────────────────────────────────────────────────────────────────────────────────────────────────────────────────────────────────────────┼───────────┤\n",
       "│ memory   │ main    │ DataLake                   │ [animal, deployment, recording, group, class, label, datetime, value]                                                                                                                                                                                                                                                           │ [VARCHAR, VARCHAR, VARCHAR, VARCHAR, VARCHAR, VARCHAR, TIMESTAMP WITH TIME ZONE, STRUCT(\"float\" DOUBLE, string VARCHAR, \"boolean\" BOOLEAN, \"int\" BIGINT)]                                                                        │ false     │\n",
       "│ metadata │ public  │ Animal_Deployments         │ [id, animal_id, deployment_id]                                                                                                                                                                                                                                                                                                  │ [BIGINT, VARCHAR, VARCHAR]                                                                                                                                                                                                       │ false     │\n",
       "│ metadata │ public  │ Animals                    │ [id, project_id, common_name, scientific_name, birth_year, domain_ids, lab_id, sex]                                                                                                                                                                                                                                             │ [VARCHAR, VARCHAR, VARCHAR, VARCHAR, INTEGER, VARCHAR, VARCHAR, VARCHAR]                                                                                                                                                         │ false     │\n",
       "│ metadata │ public  │ Deployments                │ [id, rec_date, animal, start_time, start_time_precision, timezone, notes, deployment_name, animal_age, animal_age_class, arrival_datetime, departure_datetime, deployment_latitude, deployment_location, deployment_longitude, deployment_type, domain_deployment_id, recovery_latitude, recovery_location, recovery_longitude] │ [VARCHAR, DATE, VARCHAR, TIMESTAMP WITH TIME ZONE, VARCHAR, VARCHAR, VARCHAR, VARCHAR, INTEGER, VARCHAR, TIMESTAMP WITH TIME ZONE, TIMESTAMP WITH TIME ZONE, DOUBLE, VARCHAR, DOUBLE, VARCHAR, VARCHAR, DOUBLE, VARCHAR, DOUBLE] │ false     │\n",
       "│ metadata │ public  │ Files                      │ [id, extension, type, delta_path, recording_id, metadata, start_time, uploaded_at, file]                                                                                                                                                                                                                                        │ [BIGINT, VARCHAR, VARCHAR, VARCHAR, VARCHAR, VARCHAR, TIMESTAMP WITH TIME ZONE, TIMESTAMP WITH TIME ZONE, VARCHAR]                                                                                                               │ false     │\n",
       "│ metadata │ public  │ Logger_Wikis               │ [id, description, tags, projects]                                                                                                                                                                                                                                                                                               │ [BIGINT, VARCHAR, VARCHAR[], VARCHAR[]]                                                                                                                                                                                          │ false     │\n",
       "│ metadata │ public  │ Loggers                    │ [id, icon_url, serial_no, manufacturer, type, type_name, notes, owner, wiki_id, manufacturer_name, ptt]                                                                                                                                                                                                                         │ [VARCHAR, VARCHAR, VARCHAR, VARCHAR, VARCHAR, VARCHAR, VARCHAR, VARCHAR, BIGINT, VARCHAR, VARCHAR]                                                                                                                               │ false     │\n",
       "│ metadata │ public  │ Media_Updates              │ [id, update_type, update_factor, file_id]                                                                                                                                                                                                                                                                                       │ [BIGINT, VARCHAR, DOUBLE, BIGINT]                                                                                                                                                                                                │ false     │\n",
       "│ metadata │ public  │ Recordings                 │ [id, start_time, actual_start_time, end_time, start_time_precision, animal_deployment_id, logger_id, name, attachment_location, attachment_type, quality, timezone]                                                                                                                                                             │ [VARCHAR, TIMESTAMP WITH TIME ZONE, TIMESTAMP WITH TIME ZONE, TIMESTAMP WITH TIME ZONE, VARCHAR, BIGINT, VARCHAR, VARCHAR, VARCHAR, VARCHAR, VARCHAR, VARCHAR]                                                                   │ false     │\n",
       "│ metadata │ public  │ auth_group                 │ [id, name]                                                                                                                                                                                                                                                                                                                      │ [INTEGER, VARCHAR]                                                                                                                                                                                                               │ false     │\n",
       "│ metadata │ public  │ auth_group_permissions     │ [id, group_id, permission_id]                                                                                                                                                                                                                                                                                                   │ [BIGINT, INTEGER, INTEGER]                                                                                                                                                                                                       │ false     │\n",
       "│ metadata │ public  │ auth_permission            │ [id, name, content_type_id, codename]                                                                                                                                                                                                                                                                                           │ [INTEGER, VARCHAR, INTEGER, VARCHAR]                                                                                                                                                                                             │ false     │\n",
       "│ metadata │ public  │ auth_user                  │ [id, password, last_login, is_superuser, username, first_name, last_name, email, is_staff, is_active, date_joined]                                                                                                                                                                                                              │ [INTEGER, VARCHAR, TIMESTAMP WITH TIME ZONE, BOOLEAN, VARCHAR, VARCHAR, VARCHAR, VARCHAR, BOOLEAN, BOOLEAN, TIMESTAMP WITH TIME ZONE]                                                                                            │ false     │\n",
       "│ metadata │ public  │ auth_user_groups           │ [id, user_id, group_id]                                                                                                                                                                                                                                                                                                         │ [BIGINT, INTEGER, INTEGER]                                                                                                                                                                                                       │ false     │\n",
       "│ metadata │ public  │ auth_user_user_permissions │ [id, user_id, permission_id]                                                                                                                                                                                                                                                                                                    │ [BIGINT, INTEGER, INTEGER]                                                                                                                                                                                                       │ false     │\n",
       "│ metadata │ public  │ django_admin_log           │ [id, action_time, object_id, object_repr, action_flag, change_message, content_type_id, user_id]                                                                                                                                                                                                                                │ [INTEGER, TIMESTAMP WITH TIME ZONE, VARCHAR, VARCHAR, SMALLINT, VARCHAR, INTEGER, INTEGER]                                                                                                                                       │ false     │\n",
       "│ metadata │ public  │ django_content_type        │ [id, app_label, model]                                                                                                                                                                                                                                                                                                          │ [INTEGER, VARCHAR, VARCHAR]                                                                                                                                                                                                      │ false     │\n",
       "│ metadata │ public  │ django_migrations          │ [id, app, name, applied]                                                                                                                                                                                                                                                                                                        │ [BIGINT, VARCHAR, VARCHAR, TIMESTAMP WITH TIME ZONE]                                                                                                                                                                             │ false     │\n",
       "│ metadata │ public  │ django_session             │ [session_key, session_data, expire_date]                                                                                                                                                                                                                                                                                        │ [VARCHAR, VARCHAR, TIMESTAMP WITH TIME ZONE]                                                                                                                                                                                     │ false     │\n",
       "│ temp     │ main    │ pivot_results              │ [datetime, recording, class, derived_data_depth_float, derived_data_depth_int, derived_data_depth_bool, derived_data_depth_str]                                                                                                                                                                                                 │ [TIMESTAMP WITH TIME ZONE, VARCHAR, VARCHAR, DOUBLE, BIGINT, BOOLEAN, VARCHAR]                                                                                                                                                   │ true      │\n",
       "├──────────┴─────────┴────────────────────────────┴─────────────────────────────────────────────────────────────────────────────────────────────────────────────────────────────────────────────────────────────────────────────────────────────────────────────────────────────────────────────────────────────────────────────────────────────────────────────────────────────────┴──────────────────────────────────────────────────────────────────────────────────────────────────────────────────────────────────────────────────────────────────────────────────────────────────────────────────────────────────┴───────────┤\n",
       "│ 20 rows                                                                                                                                                                                                                                                                                                                                                                                                                                                                                                                                                                                                                6 columns │\n",
       "└──────────────────────────────────────────────────────────────────────────────────────────────────────────────────────────────────────────────────────────────────────────────────────────────────────────────────────────────────────────────────────────────────────────────────────────────────────────────────────────────────────────────────────────────────────────────────────────────────────────────────────────────────────────────────────────────────────────────────────────────────────────────────────────────────────────────────────────────────────────────────────────────────────────────────────────────────┘"
      ]
     },
     "execution_count": 2,
     "metadata": {},
     "output_type": "execute_result"
    }
   ],
   "source": [
    "\n",
    "# Okay, but is there a way to find out what animal_ids, etc, are available?\n",
    "# Time to go spelunking!\n",
    "duckpond.get_db_schema()\n",
    "\n",
    "# ...okay, cool. :) "
   ]
  },
  {
   "cell_type": "code",
   "execution_count": 3,
   "metadata": {},
   "outputs": [
    {
     "data": {
      "text/plain": [
       "pandas.core.frame.DataFrame"
      ]
     },
     "execution_count": 3,
     "metadata": {},
     "output_type": "execute_result"
    }
   ],
   "source": [
    "# Let's try a sql query as well (also ripped from the querying_docs notebook)\n",
    "labels_df = duckpond.conn.sql(f\"\"\"\n",
    "    SELECT label\n",
    "    FROM (\n",
    "        SELECT DISTINCT label\n",
    "        FROM DataLake\n",
    "    )\n",
    "\"\"\").df()\n",
    "# display(labels_df)\n",
    "\n",
    "animals_df = duckpond.conn.sql(f\"\"\"\n",
    "    SELECT animal\n",
    "    FROM (\n",
    "        SELECT DISTINCT animal\n",
    "        FROM DataLake\n",
    "    )\n",
    "\"\"\").df()\n",
    "# display(animals_df)\n",
    "\n",
    "signal_df = duckpond.conn.sql(f\"\"\"\n",
    "    SELECT class, label\n",
    "    FROM (\n",
    "        SELECT DISTINCT label, class\n",
    "        FROM DataLake\n",
    "    )\n",
    "\"\"\").df()\n",
    "type(signal_df)\n"
   ]
  },
  {
   "cell_type": "code",
   "execution_count": 4,
   "metadata": {},
   "outputs": [
    {
     "data": {
      "application/vnd.jupyter.widget-view+json": {
       "model_id": "21969254daf14bd88cf2f6aca80bc018",
       "version_major": 2,
       "version_minor": 0
      },
      "text/plain": [
       "FloatProgress(value=0.0, layout=Layout(width='auto'), style=ProgressStyle(bar_color='black'))"
      ]
     },
     "metadata": {},
     "output_type": "display_data"
    },
    {
     "data": {
      "text/plain": [
       "<DiveDB.services.dive_data.DiveData at 0xffff4a3157f0>"
      ]
     },
     "execution_count": 4,
     "metadata": {},
     "output_type": "execute_result"
    }
   ],
   "source": [
    "import DiveDB.services.dive_data as dd\n",
    "importlib.reload(dd)\n",
    "import DiveDB.services.duck_pond as dp\n",
    "importlib.reload(dp)\n",
    "\n",
    "duckpond = dp.DuckPond(os.environ[\"CONTAINER_DELTA_LAKE_PATH\"])\n",
    "\n",
    "results = duckpond.get_delta_data(    \n",
    "    classes=[\"derived_data_depth\", \"sensor_data_accelerometer\"],\n",
    "    animal_ids=\"apfo-001a\",\n",
    "    # limit=1000, # 0000\n",
    ")\n",
    "results.get_metadata()\n",
    "results.duckdb_relation.columns\n",
    "results"
   ]
  },
  {
   "cell_type": "code",
   "execution_count": 5,
   "metadata": {},
   "outputs": [
    {
     "data": {
      "text/plain": [
       "{'2019-11-08_apfo-001a_apfo-001a_CC-35': {'logger_id': 'CC-35',\n",
       "  'animal_id': 'apfo-001a',\n",
       "  'deployment_id': '2019-11-08_apfo-001a'}}"
      ]
     },
     "execution_count": 5,
     "metadata": {},
     "output_type": "execute_result"
    }
   ],
   "source": [
    "import DiveDB.services.dive_data as dd\n",
    "importlib.reload(dd)\n",
    "\n",
    "dd.get_metadata(results)"
   ]
  },
  {
   "cell_type": "code",
   "execution_count": 8,
   "metadata": {},
   "outputs": [
    {
     "name": "stdout",
     "output_type": "stream",
     "text": [
      "Warning: Overwriting existing metadata!\n",
      "Warning: Signal-specific padding value not yet implemented for `ax` (default: `0`)\n",
      "accelerometer-ax - From ax with class sensor_data_accelerometer\n",
      "Warning: Signal-specific padding value not yet implemented for `derived_data_depth` (default: `0`)\n",
      "derived_depth - From derived_data_depth with class derived_data_depth\n",
      "Warning: Signal-specific padding value not yet implemented for `ay` (default: `0`)\n",
      "accelerometer-ay - From ay with class sensor_data_accelerometer\n",
      "Warning: Signal-specific padding value not yet implemented for `az` (default: `0`)\n",
      "accelerometer-az - From az with class sensor_data_accelerometer\n"
     ]
    },
    {
     "data": {
      "text/plain": [
       "['.tmp/foo/2019-11-08_apfo-001a_apfo-001a_CC-35_4.edf']"
      ]
     },
     "execution_count": 8,
     "metadata": {},
     "output_type": "execute_result"
    }
   ],
   "source": [
    "import DiveDB.services.dive_data as dd\n",
    "importlib.reload(dd)\n",
    "\n",
    "outpaths = dd.export_to_edf(results, \".tmp/foo\")\n",
    "outpaths\n"
   ]
  },
  {
   "cell_type": "code",
   "execution_count": 10,
   "metadata": {},
   "outputs": [
    {
     "data": {
      "text/plain": [
       "(<EdfSignal accelerometer-ax 400Hz>,\n",
       " <EdfSignal derived_depth 50Hz>,\n",
       " <EdfSignal accelerometer-ay 400Hz>,\n",
       " <EdfSignal accelerometer-az 400Hz>)"
      ]
     },
     "metadata": {},
     "output_type": "display_data"
    },
    {
     "data": {
      "text/plain": [
       "{'_sampling_frequency': 400.0,\n",
       " '_label': b'accelerometer-ax',\n",
       " '_transducer_type': b'TODO                                                                            ',\n",
       " '_physical_dimension': b'Unknown ',\n",
       " '_physical_min': b'-39.2266',\n",
       " '_physical_max': b'39.22541',\n",
       " '_digital_min': b'-32768  ',\n",
       " '_digital_max': b'32767   ',\n",
       " '_prefiltering': b'sensor                                                                          ',\n",
       " '_samples_per_data_record': b'400     ',\n",
       " '_reserved': b'                                ',\n",
       " '_lazy_loader': <edfio._lazy_loading.LazyLoader at 0xffff15df7380>}"
      ]
     },
     "metadata": {},
     "output_type": "display_data"
    },
    {
     "data": {
      "text/plain": [
       "{'_sampling_frequency': 50.0,\n",
       " '_label': b'derived_depth   ',\n",
       " '_transducer_type': b'TODO                                                                            ',\n",
       " '_physical_dimension': b'Unknown ',\n",
       " '_physical_min': b'-2.00532',\n",
       " '_physical_max': b'122.1133',\n",
       " '_digital_min': b'-32768  ',\n",
       " '_digital_max': b'32767   ',\n",
       " '_prefiltering': b'derived                                                                         ',\n",
       " '_samples_per_data_record': b'50      ',\n",
       " '_reserved': b'                                ',\n",
       " '_lazy_loader': <edfio._lazy_loading.LazyLoader at 0xffff15df7e30>}"
      ]
     },
     "metadata": {},
     "output_type": "display_data"
    }
   ],
   "source": [
    "from edfio import read_edf\n",
    "\n",
    "edf_roundtrip = read_edf(outpaths[0])\n",
    "# display(edf_roundtrip)\n",
    "display(edf_roundtrip.signals)\n",
    "display(edf_roundtrip.signals[0].__dict__)\n",
    "display(edf_roundtrip.signals[1].__dict__)\n",
    "# display(edf_roundtrip.signals[0].data)\n",
    "# display(edf_roundtrip.recording)\n",
    "# display(edf_roundtrip.patient)"
   ]
  },
  {
   "cell_type": "code",
   "execution_count": 16,
   "metadata": {},
   "outputs": [
    {
     "data": {
      "text/plain": [
       "'Fo'"
      ]
     },
     "execution_count": 16,
     "metadata": {},
     "output_type": "execute_result"
    }
   ],
   "source": [
    "\"Foxes\"[0:-3]"
   ]
  }
 ],
 "metadata": {
  "kernelspec": {
   "display_name": "Python 3 (ipykernel)",
   "language": "python",
   "name": "python3"
  },
  "language_info": {
   "codemirror_mode": {
    "name": "ipython",
    "version": 3
   },
   "file_extension": ".py",
   "mimetype": "text/x-python",
   "name": "python",
   "nbconvert_exporter": "python",
   "pygments_lexer": "ipython3",
   "version": "3.12.8"
  }
 },
 "nbformat": 4,
 "nbformat_minor": 2
}
