{
 "cells": [
  {
   "cell_type": "markdown",
   "metadata": {},
   "source": [
    "# Data Visualization\n",
    "\n",
    "This notebook demonstrates the process of visualizing data stored in Delta Lake using Dash. The following is a very simple example of how to visualize data from DiveDB. For a more comprehensive example, see the [data visualization](../dash/data_visualization.py) file."
   ]
  },
  {
   "cell_type": "code",
   "execution_count": null,
   "metadata": {},
   "outputs": [],
   "source": [
    "from dash import Dash, html, dcc, callback, Output, Input\n",
    "import plotly.graph_objects as go\n",
    "from plotly.subplots import make_subplots\n",
    "\n",
    "import importlib\n",
    "import os\n",
    "import DiveDB.services.duck_pond\n",
    "importlib.reload(DiveDB.services.duck_pond)\n",
    "from DiveDB.services.duck_pond import DuckPond\n",
    "\n",
    "duckpond = DuckPond(os.environ[\"CONTAINER_DELTA_LAKE_PATH\"])\n",
    "\n",
    "labels = duckpond.conn.sql(f\"\"\"\n",
    "    SELECT DISTINCT label\n",
    "    FROM DataLake\n",
    "    WHERE animal = 'oror-002'\n",
    "    \"\"\").df()\n",
    "\n",
    "labels = sorted([name for name in labels.label.to_list() if (name.startswith(\"sensor\") or name.startswith(\"logger\"))])\n",
    "\n",
    "app = Dash()\n",
    "\n",
    "fig = go.Figure()\n",
    "dff = duckpond.get_delta_data(    \n",
    "    animal_ids=\"oror-002\",\n",
    "    frequency=10,\n",
    "    labels=labels,\n",
    ")\n",
    "\n",
    "figures = {\n",
    "    col: go.Figure()\n",
    "    for col in dff.columns[1:3]\n",
    "}\n",
    "\n",
    "for idx, (col, fig) in enumerate(figures.items()):\n",
    "    fig.add_trace(\n",
    "        go.Scattergl(\n",
    "            x=dff['datetime'],\n",
    "            y=dff[col],\n",
    "            mode='lines',\n",
    "            name=col,\n",
    "            yaxis=f'y{idx+1}'\n",
    "        )\n",
    "    )\n",
    "\n",
    "app.layout = [\n",
    "    # dcc.Dropdown(labels, labels[0], id='dropdown-selection'),    \n",
    "    dcc.Graph(id=f'graph-content-{idx}', figure=fig) for idx, fig in enumerate(figures.values())\n",
    "]\n",
    "\n",
    "app.run(debug=True, host='0.0.0.0', port=8053)"
   ]
  }
 ],
 "metadata": {
  "kernelspec": {
   "display_name": "Python 3 (ipykernel)",
   "language": "python",
   "name": "python3"
  },
  "language_info": {
   "codemirror_mode": {
    "name": "ipython",
    "version": 3
   },
   "file_extension": ".py",
   "mimetype": "text/x-python",
   "name": "python",
   "nbconvert_exporter": "python",
   "pygments_lexer": "ipython3",
   "version": "3.12.7"
  }
 },
 "nbformat": 4,
 "nbformat_minor": 2
}
