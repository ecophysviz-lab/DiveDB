{
 "cells": [
  {
   "cell_type": "markdown",
   "metadata": {},
   "source": [
    "# Data Visualization\n",
    "\n",
    "This notebook demonstrates the process of visualizing data stored in Delta Lake using Dash"
   ]
  },
  {
   "cell_type": "code",
   "execution_count": null,
   "metadata": {},
   "outputs": [],
   "source": [
    "\n",
    "from DiveDB.services.duck_pond import DuckPond\n",
    "\n",
    "duckpond = DuckPond()\n",
    "\n",
    "signal_name = \"sensor_data_depth\"\n",
    "df = duckpond.conn.execute(f\"\"\"\n",
    "SELECT signal_name, datetime, data_labels, values\n",
    "FROM DataLake\n",
    "WHERE signal_name = $1\n",
    "\"\"\", [signal_name]).df()\n",
    "display(df)"
   ]
  },
  {
   "cell_type": "markdown",
   "metadata": {},
   "source": []
  },
  {
   "cell_type": "code",
   "execution_count": null,
   "metadata": {},
   "outputs": [],
   "source": [
    "from dash import Dash, html, dcc, callback, Output, Input\n",
    "import plotly.graph_objects as go\n",
    "import importlib\n",
    "\n",
    "import DiveDB.services.duck_pond\n",
    "importlib.reload(DiveDB.services.duck_pond)\n",
    "from DiveDB.services.duck_pond import DuckPond\n",
    "\n",
    "duckpond = DuckPond()\n",
    "\n",
    "labels = duckpond.conn.sql(f\"\"\"\n",
    "    SELECT DISTINCT label\n",
    "    FROM DataLake\n",
    "    WHERE animal = 'oror-002'\n",
    "    \"\"\").df()\n",
    "\n",
    "labels = sorted([name for name in labels.label.to_list() if (name.startswith(\"sensor\") or name.startswith(\"logger\"))])\n",
    "\n",
    "app = Dash()\n",
    "\n",
    "app.layout = [\n",
    "    dcc.Dropdown(labels, labels[0], id='dropdown-selection'),    \n",
    "    dcc.Graph(id='graph-content')\n",
    "]\n",
    "\n",
    "@callback(\n",
    "    Output('graph-content', 'figure'),\n",
    "    Input('dropdown-selection', 'value')\n",
    ")\n",
    "def update_graph(value):\n",
    "    dff = duckpond.get_delta_data(    \n",
    "        animal_ids=\"oror-002\",\n",
    "        frequency=10,\n",
    "        labels=value,\n",
    "    )\n",
    "    \n",
    "    fig = go.Figure()\n",
    "    for col in dff.columns[1:]:\n",
    "        fig.add_trace(\n",
    "            go.Scattergl(\n",
    "                x=dff['datetime'],\n",
    "                y=dff[col],\n",
    "                mode='lines',\n",
    "                name=col\n",
    "            )\n",
    "        )\n",
    "    return fig\n",
    "\n",
    "app.run(debug=True, host='0.0.0.0')"
   ]
  },
  {
   "cell_type": "code",
   "execution_count": null,
   "metadata": {},
   "outputs": [],
   "source": [
    "from dash import Dash, html, dcc, callback, Output, Input\n",
    "import plotly.express as px\n",
    "import pandas as pd\n",
    "\n",
    "df = pd.read_csv('https://raw.githubusercontent.com/plotly/datasets/master/gapminder_unfiltered.csv')\n",
    "\n",
    "app = Dash()\n",
    "\n",
    "app.layout = [\n",
    "    html.H1(children='Title of Dash App', style={'textAlign':'center'}),\n",
    "    dcc.Dropdown(df.country.unique(), 'Canada', id='dropdown-selection'),\n",
    "    dcc.Graph(id='graph-content')\n",
    "]\n",
    "\n",
    "@callback(\n",
    "    Output('graph-content', 'figure'),\n",
    "    Input('dropdown-selection', 'value')\n",
    ")\n",
    "def update_graph(value):\n",
    "    dff = df[df.country==value]\n",
    "    return px.line(dff, x='year', y='pop')\n",
    "\n",
    "if __name__ == '__main__':\n",
    "    app.run(debug=True, host='0.0.0.0')\n"
   ]
  }
 ],
 "metadata": {
  "kernelspec": {
   "display_name": "Python 3 (ipykernel)",
   "language": "python",
   "name": "python3"
  },
  "language_info": {
   "codemirror_mode": {
    "name": "ipython",
    "version": 3
   },
   "file_extension": ".py",
   "mimetype": "text/x-python",
   "name": "python",
   "nbconvert_exporter": "python",
   "pygments_lexer": "ipython3",
   "version": "3.12.7"
  }
 },
 "nbformat": 4,
 "nbformat_minor": 2
}
