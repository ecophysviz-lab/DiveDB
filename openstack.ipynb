{
 "cells": [
  {
   "cell_type": "code",
   "execution_count": null,
   "metadata": {},
   "outputs": [],
   "source": [
    "from DiveDB.services.utils.openstack import SwiftClient\n",
    "from DiveDB.services.utils.directory_utils import get_tmpdir\n",
    "import os\n",
    "\n",
    "client = SwiftClient()\n",
    "client.get_containers()\n",
    "\n",
    "edf_regex = r\".*\\.edf$\"\n",
    "client.list_objects(\"data\", edf_regex)\n",
    "\n",
    "tmpdir = get_tmpdir()\n",
    "client.write_object_to_local(\n",
    "    os.path.join(tmpdir, \"test.edf\"),\n",
    "    container_name=\"data\",\n",
    "    object_name=\"files/test12_Wednesday_05_DAY1_PROCESSED.edf\",\n",
    ")\n",
    "\n",
    "tmpdir = get_tmpdir()\n",
    "client.write_object_to_local(\n",
    "    os.path.join(tmpdir, \"test.edf\"),\n",
    "    container_name=\"data\",\n",
    "    object_name=\"files/test12_Wednesday_05_DAY1_PROCESSED.edf\",\n",
    ")\n",
    "\n",
    "client.put_object(\n",
    "    container_name=\"data\",\n",
    "    object_name=\"jkb/test.edf\",\n",
    "    contents=os.path.join(tmpdir, \"test.edf\").read(),\n",
    ")"
   ]
  },
  {
   "cell_type": "code",
   "execution_count": null,
   "metadata": {},
   "outputs": [],
   "source": [
    "DIR = os.environ['LOCAL_DATA_PATH']\n",
    "\n",
    "for edf in (\n",
    "    \"files/test12_Wednesday_05_DAY1_PROCESSED.edf\",\n",
    "    \"files/test12_Wednesday_05_DAY2_PROCESSED.edf\"\n",
    "):\n",
    "    client.write_object_to_local(\n",
    "        os.path.join(DIR, edf),\n",
    "        container_name=\"data\",\n",
    "        object_name=edf,\n",
    "    )"
   ]
  }
 ],
 "metadata": {
  "kernelspec": {
   "display_name": "Python 3 (ipykernel)",
   "language": "python",
   "name": "python3"
  },
  "language_info": {
   "codemirror_mode": {
    "name": "ipython",
    "version": 3
   },
   "file_extension": ".py",
   "mimetype": "text/x-python",
   "name": "python",
   "nbconvert_exporter": "python",
   "pygments_lexer": "ipython3",
   "version": "3.12.7"
  }
 },
 "nbformat": 4,
 "nbformat_minor": 2
}
