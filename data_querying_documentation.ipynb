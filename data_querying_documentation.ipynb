{
 "cells": [
  {
   "cell_type": "markdown",
   "metadata": {},
   "source": [
    "# Data Querying and Exporting\n",
    "\n",
    "This notebook demonstrates the process of querying data from Delta Lake and exporting it in various formats."
   ]
  },
  {
   "cell_type": "markdown",
   "metadata": {},
   "source": [
    "## Starting the servers:\n",
    "To launch the server, open the Docker Desktop app and run the following command at the root of the project:\n",
    "```bash\n",
    "$ make up\n",
    "```\n",
    "This command will launch the Django server, Postgres database, and Jupyter server using the environment variables defined in the `.env` file accross all containers.\n",
    "\n",
    "#### Understanding expected file paths:\n",
    "DiveDB expects the following paths to be set in the `.env` file:\n",
    "- `CONTAINER_DATA_PATH`\n",
    "- `LOCAL_DATA_PATH`\n",
    "- `HOST_DELTA_LAKE_PATH`\n",
    "- `CONTAINER_DELTA_LAKE_PATH`\n",
    "- `HOST_FILE_STORAGE_PATH`\n",
    "- `CONTAINER_FILE_STORAGE_PATH`\n",
    "\n",
    "These paths are used to mount the Delta Lake and file storage to the containers. The \"LOCAL_\" and \"HOST_\" paths can be wherever makes sense for your local machine. The \"CONTAINER_\" paths are the paths that the containers expect. We recommend you keep the \"CONTAINER_\" paths as they are in the `.env.example` file.\n",
    "\n",
    "#### When is the server ready?\n",
    "There are 3 processes that need to be running for the server to be ready:\n",
    "1. The Django server (`web`)\n",
    "2. The Postgres database (`metadata_database`)\n",
    "3. The Jupyter server (`jupyter`)\n",
    "\n",
    "Jupyter is almost always the last to start up. You'll know it's ready when you see the following logs in the terminal:\n",
    "```bash\n",
    "jupyter-1            | [I 2024-08-30 16:12:37.083 ServerApp] Serving notebooks from local directory: /app\n",
    "jupyter-1            | [I 2024-08-30 16:12:37.083 ServerApp] Jupyter Server 2.14.2 is running at:\n",
    "jupyter-1            | [I 2024-08-30 16:12:37.083 ServerApp] http://e29d05e13fd0:8888/jupyter/tree\n",
    "jupyter-1            | [I 2024-08-30 16:12:37.083 ServerApp]     http://127.0.0.1:8888/jupyter/tree\n",
    "```"
   ]
  },
  {
   "cell_type": "markdown",
   "metadata": {},
   "source": [
    "## Connecting to the Jupyter Kernel:\n",
    "To connect to the Jupyter server in your notebook, follow these steps:\n",
    "1. Click the \"Select Kernel\" button at the top right of the page.\n",
    "1. Pick the \"Select another kernel\" option in the dropdown menu.\n",
    "1. Pick the \"Existing Jupyter Server\" option in the dropdown menu.\n",
    "1. Now we need to connect to the Jupyter server.\n",
    "    - If you previously connected to the Jupyter server\n",
    "        - Pick the \"localhost\" option in the dropdown menu (or whatever you named it prior)\n",
    "    - If you have not connected to the Jupyter server before\n",
    "        - Pick the \"Enter the URL of the running Jupyter server\" option in the dropdown menu.\n",
    "        - Enter http://localhost:8888/jupyter\n",
    "        - Give it a name you'll remember (like \"Local DiveDB Jupyter Server\")\n",
    "1. Press the \"Reload\" icon in the top right of the dropdown menu to see the latest kernel.\n",
    "1. Pick the \"Python 3\" option in the dropdown menu.\n",
    "\n",
    "This will ensure you execute the Jupyter notebook in the correct environment."
   ]
  },
  {
   "cell_type": "markdown",
   "metadata": {},
   "source": [
    "## Querying from Delta Lake\n",
    "We connect to our datastores using the `DuckPond` class. DuckPond is a wrapper around a DuckDB connection with access to both our Metadata Database and our measurements stored in Delta Lake. The ability to query both sources of data from a single connection is useful for quickly accessing data for analysis.\n",
    "\n",
    "There are two main ways to query data from Delta Lake:\n",
    "1. Using the DuckPond `get_delta_data` method\n",
    "2. Using the DuckPond connection to query directly\n",
    "\n",
    "### Using the DuckPond `get_delta_data` method\n",
    "DuckPond's `get_delta_data` method constructs a query based on the parameters you pass to it and returns a DuckDB DataFrame. It is useful for quickly accessing data for analysis. It takes the following optional parameters:\n",
    "- `labels`: A string or list of data labels to query.\n",
    "- `logger_ids`: A string or list of logger IDs to query.\n",
    "- `animal_ids`: A string or list of animal IDs to query.\n",
    "- `deployment_ids`: A string or list of deployment IDs to query.\n",
    "- `recording_ids`: A string or list of recording IDs to query.\n",
    "- `date_range`: A tuple of start and end dates to query.\n",
    "- `limit`: The maximum number of rows to return.\n",
    "\n",
    "The `get_delta_data` method returns a [DuckDB DuckDBPyConnection](https://duckdb.org/docs/api/python/reference/#duckdb.DuckDBPyConnection) which can be used to convert the data in many different formats including the following ([see documentation for a full list](https://duckdb.org/docs/api/python/conversion#result-conversion-duckdb-results-to-python))\n",
    "- NumPy Array (`.fetchnumpy()`)\n",
    "- Pandas DataFrame (`.df()`)\n",
    "- Arrows Table (`.arrow()`)\n",
    "- Polars DataFrame (`.pl()`)\n",
    "\n",
    "Until a conversion method is called, the data is not loaded into memory. This allows for large queries to be run without using too much memory.\n",
    "\n",
    "##### Example:"
   ]
  },
  {
   "cell_type": "code",
   "execution_count": 10,
   "metadata": {},
   "outputs": [
    {
     "data": {
      "text/plain": [
       "┌──────────────────────────┬─────────────┬───────────┬────────────┬───────────┐\n",
       "│         datetime         │ DEPTH_float │ DEPTH_int │ DEPTH_bool │ DEPTH_str │\n",
       "│ timestamp with time zone │   double    │   int64   │  boolean   │  varchar  │\n",
       "├──────────────────────────┴─────────────┴───────────┴────────────┴───────────┤\n",
       "│                                   0 rows                                    │\n",
       "└─────────────────────────────────────────────────────────────────────────────┘"
      ]
     },
     "metadata": {},
     "output_type": "display_data"
    }
   ],
   "source": [
    "import importlib\n",
    "import DiveDB.services.duck_pond\n",
    "import DiveDB.services.utils.edf\n",
    "importlib.reload(DiveDB.services.duck_pond)\n",
    "importlib.reload(DiveDB.services.utils.edf)\n",
    "\n",
    "from DiveDB.services.duck_pond import DuckPond\n",
    "from DiveDB.services.utils.edf import create_mne_array, create_mne_edf\n",
    "\n",
    "duckpond = DuckPond()\n",
    "\n",
    "conn = duckpond.get_delta_data(    \n",
    "    labels=[\"DEPTH\"],\n",
    "    \n",
    ")\n",
    "\n",
    "display(conn)"
   ]
  },
  {
   "cell_type": "markdown",
   "metadata": {},
   "source": [
    "## Querying for shared frequency from Delta Lake\n",
    "Delta Lake can store multiple signal names at a single frequency. If you query a single signal name, the data will be returned as a list of values for each timestamp. If you query multiple signal names, the data will be returned as a list of lists of values for each timestamp.\n",
    "\n",
    "The data will be returned as a Pandas DataFrame with a DatetimeIndex.\n",
    "\n",
    "##### Example:"
   ]
  },
  {
   "cell_type": "code",
   "execution_count": null,
   "metadata": {},
   "outputs": [],
   "source": [
    "import importlib\n",
    "import DiveDB.services.duck_pond\n",
    "import DiveDB.services.utils.edf\n",
    "importlib.reload(DiveDB.services.duck_pond)\n",
    "importlib.reload(DiveDB.services.utils.edf)\n",
    "\n",
    "from DiveDB.services.duck_pond import DuckPond\n",
    "from DiveDB.services.utils.edf import create_mne_array, create_mne_edf\n",
    "\n",
    "duckpond = DuckPond()\n",
    "\n",
    "duckpond.get_delta_data(    \n",
    "    labels=[\"light\"],\n",
    "    animal_ids=\"oror-002\",\n",
    ")"
   ]
  },
  {
   "cell_type": "markdown",
   "metadata": {},
   "source": [
    "### Using the DuckPond connection to query directly\n",
    "More complex queries can be run directly on the DuckPond connection. This is useful for queries that may not be supported by the `get_delta_data` method which has those involving grouping or aggregations. \n",
    "\n",
    "DuckDB runs sql very similar in syntax to other SQL databases. A full breakdown of the syntax can be found [in the documenation](https://duckdb.org/docs/sql/introduction).\n",
    "\n",
    "The connection object can be found in the `duckpond.conn` attribute. To run queries, use the `sql` method which also returns a [DuckDB DuckDBPyConnection](https://duckdb.org/docs/api/python/reference/#duckdb.DuckDBPyConnection) which can be used to convert the data in many different formats including the following ([see documentation for a full list](https://duckdb.org/docs/api/python/conversion#result-conversion-duckdb-results-to-python))\n",
    "- NumPy Array (`.fetchnumpy()`)\n",
    "- Pandas DataFrame (`.df()`)\n",
    "- Arrows Table (`.arrow()`)\n",
    "- Polars DataFrame (`.pl()`)\n",
    "\n",
    "##### Example:"
   ]
  },
  {
   "cell_type": "code",
   "execution_count": null,
   "metadata": {},
   "outputs": [],
   "source": [
    "import importlib\n",
    "\n",
    "# Reload the DuckPond module to pick up any changes\n",
    "import DiveDB.services.duck_pond\n",
    "importlib.reload(DiveDB.services.duck_pond)\n",
    "from DiveDB.services.duck_pond import DuckPond\n",
    "\n",
    "duckpond = DuckPond()\n",
    "\n",
    "df = duckpond.conn.sql(f\"\"\"\n",
    "SELECT label, avg(value) as mean_data\n",
    "FROM (\n",
    "    SELECT label, unnest(values) as value\n",
    "    FROM DataLake\n",
    "    WHERE label = 'sensor_data_temperature'\n",
    "    OR label = 'sensor_data_ecg'\n",
    ")\n",
    "GROUP BY label\n",
    "\"\"\").df()\n",
    "\n",
    "display(df)\n"
   ]
  },
  {
   "cell_type": "markdown",
   "metadata": {},
   "source": [
    "## Chaining Queries\n",
    "Queries can be chained together to form a pipeline. This is useful for running complex queries that involve multiple steps.\n",
    "\n",
    "##### Example:"
   ]
  },
  {
   "cell_type": "code",
   "execution_count": 10,
   "metadata": {},
   "outputs": [
    {
     "data": {
      "application/vnd.jupyter.widget-view+json": {
       "model_id": "4de28f12c858409094e1cf8241db32a4",
       "version_major": 2,
       "version_minor": 0
      },
      "text/plain": [
       "FloatProgress(value=0.0, layout=Layout(width='auto'), style=ProgressStyle(bar_color='black'))"
      ]
     },
     "metadata": {},
     "output_type": "display_data"
    },
    {
     "data": {
      "application/vnd.jupyter.widget-view+json": {
       "model_id": "0fac1f2af080408e9d2062dce5ba2fde",
       "version_major": 2,
       "version_minor": 0
      },
      "text/plain": [
       "FloatProgress(value=0.0, layout=Layout(width='auto'), style=ProgressStyle(bar_color='black'))"
      ]
     },
     "metadata": {},
     "output_type": "display_data"
    },
    {
     "name": "stdout",
     "output_type": "stream",
     "text": [
      "Original FS: 400.0, Target FS: 10, Conversion Factor: 40\n"
     ]
    },
    {
     "data": {
      "text/html": [
       "<div>\n",
       "<style scoped>\n",
       "    .dataframe tbody tr th:only-of-type {\n",
       "        vertical-align: middle;\n",
       "    }\n",
       "\n",
       "    .dataframe tbody tr th {\n",
       "        vertical-align: top;\n",
       "    }\n",
       "\n",
       "    .dataframe thead th {\n",
       "        text-align: right;\n",
       "    }\n",
       "</style>\n",
       "<table border=\"1\" class=\"dataframe\">\n",
       "  <thead>\n",
       "    <tr style=\"text-align: right;\">\n",
       "      <th></th>\n",
       "      <th>datetime</th>\n",
       "      <th>ax</th>\n",
       "      <th>ay</th>\n",
       "      <th>az</th>\n",
       "    </tr>\n",
       "  </thead>\n",
       "  <tbody>\n",
       "    <tr>\n",
       "      <th>0</th>\n",
       "      <td>2024-01-16 17:13:56+00:00</td>\n",
       "      <td>-9.765949</td>\n",
       "      <td>-0.454898</td>\n",
       "      <td>-0.871489</td>\n",
       "    </tr>\n",
       "    <tr>\n",
       "      <th>1</th>\n",
       "      <td>2024-01-16 17:13:56.100000+00:00</td>\n",
       "      <td>-9.720459</td>\n",
       "      <td>-0.481235</td>\n",
       "      <td>-0.905008</td>\n",
       "    </tr>\n",
       "    <tr>\n",
       "      <th>2</th>\n",
       "      <td>2024-01-16 17:13:56.200000+00:00</td>\n",
       "      <td>-9.758766</td>\n",
       "      <td>-0.476446</td>\n",
       "      <td>-0.861913</td>\n",
       "    </tr>\n",
       "    <tr>\n",
       "      <th>3</th>\n",
       "      <td>2024-01-16 17:13:56.300000+00:00</td>\n",
       "      <td>-9.753978</td>\n",
       "      <td>-0.464475</td>\n",
       "      <td>-0.854730</td>\n",
       "    </tr>\n",
       "    <tr>\n",
       "      <th>4</th>\n",
       "      <td>2024-01-16 17:13:56.400000+00:00</td>\n",
       "      <td>-9.775525</td>\n",
       "      <td>-0.490811</td>\n",
       "      <td>-0.835576</td>\n",
       "    </tr>\n",
       "    <tr>\n",
       "      <th>...</th>\n",
       "      <td>...</td>\n",
       "      <td>...</td>\n",
       "      <td>...</td>\n",
       "      <td>...</td>\n",
       "    </tr>\n",
       "    <tr>\n",
       "      <th>68428</th>\n",
       "      <td>2024-01-16 19:07:58.800000+00:00</td>\n",
       "      <td>-1.953669</td>\n",
       "      <td>-1.082179</td>\n",
       "      <td>-8.868123</td>\n",
       "    </tr>\n",
       "    <tr>\n",
       "      <th>68429</th>\n",
       "      <td>2024-01-16 19:07:58.900000+00:00</td>\n",
       "      <td>-1.496376</td>\n",
       "      <td>-1.338359</td>\n",
       "      <td>-8.990227</td>\n",
       "    </tr>\n",
       "    <tr>\n",
       "      <th>68430</th>\n",
       "      <td>2024-01-16 19:07:59+00:00</td>\n",
       "      <td>-1.422156</td>\n",
       "      <td>-1.520318</td>\n",
       "      <td>-9.538499</td>\n",
       "    </tr>\n",
       "    <tr>\n",
       "      <th>68431</th>\n",
       "      <td>2024-01-16 19:07:59.100000+00:00</td>\n",
       "      <td>-1.549048</td>\n",
       "      <td>-1.271321</td>\n",
       "      <td>-9.378088</td>\n",
       "    </tr>\n",
       "    <tr>\n",
       "      <th>68432</th>\n",
       "      <td>2024-01-16 19:07:59.200000+00:00</td>\n",
       "      <td>-1.326388</td>\n",
       "      <td>-1.065420</td>\n",
       "      <td>-9.248801</td>\n",
       "    </tr>\n",
       "  </tbody>\n",
       "</table>\n",
       "<p>68433 rows × 4 columns</p>\n",
       "</div>"
      ],
      "text/plain": [
       "                              datetime        ax        ay        az\n",
       "0            2024-01-16 17:13:56+00:00 -9.765949 -0.454898 -0.871489\n",
       "1     2024-01-16 17:13:56.100000+00:00 -9.720459 -0.481235 -0.905008\n",
       "2     2024-01-16 17:13:56.200000+00:00 -9.758766 -0.476446 -0.861913\n",
       "3     2024-01-16 17:13:56.300000+00:00 -9.753978 -0.464475 -0.854730\n",
       "4     2024-01-16 17:13:56.400000+00:00 -9.775525 -0.490811 -0.835576\n",
       "...                                ...       ...       ...       ...\n",
       "68428 2024-01-16 19:07:58.800000+00:00 -1.953669 -1.082179 -8.868123\n",
       "68429 2024-01-16 19:07:58.900000+00:00 -1.496376 -1.338359 -8.990227\n",
       "68430        2024-01-16 19:07:59+00:00 -1.422156 -1.520318 -9.538499\n",
       "68431 2024-01-16 19:07:59.100000+00:00 -1.549048 -1.271321 -9.378088\n",
       "68432 2024-01-16 19:07:59.200000+00:00 -1.326388 -1.065420 -9.248801\n",
       "\n",
       "[68433 rows x 4 columns]"
      ]
     },
     "metadata": {},
     "output_type": "display_data"
    }
   ],
   "source": [
    "import importlib\n",
    "\n",
    "# Reload the DuckPond module to pick up any changes\n",
    "import DiveDB.services.duck_pond\n",
    "importlib.reload(DiveDB.services.duck_pond)\n",
    "from DiveDB.services.duck_pond import DuckPond\n",
    "\n",
    "duckpond = DuckPond()\n",
    "\n",
    "# Get the filtered data\n",
    "filtered_data = duckpond.get_delta_data(    \n",
    "    animal_ids=\"oror-002\",\n",
    "    frequency=10, # Resample values to 10 Hz and make sure each signal has the same time intervals\n",
    "    # Aggregation of events (think state events - behaviors) type: state (has state and end dates)\n",
    "    labels=\"sensor_data_accelerometer\",\n",
    "    \n",
    ")\n",
    "\n",
    "display(filtered_data)\n"
   ]
  },
  {
   "cell_type": "markdown",
   "metadata": {},
   "source": [
    "## Query Variables\n",
    "Sometimes we don't want to hardcode variables in our queries. We can use the `execute` method to pass variables to the query.\n",
    "\n",
    "##### Example:"
   ]
  },
  {
   "cell_type": "code",
   "execution_count": 7,
   "metadata": {},
   "outputs": [
    {
     "data": {
      "text/html": [
       "<div>\n",
       "<style scoped>\n",
       "    .dataframe tbody tr th:only-of-type {\n",
       "        vertical-align: middle;\n",
       "    }\n",
       "\n",
       "    .dataframe tbody tr th {\n",
       "        vertical-align: top;\n",
       "    }\n",
       "\n",
       "    .dataframe thead th {\n",
       "        text-align: right;\n",
       "    }\n",
       "</style>\n",
       "<table border=\"1\" class=\"dataframe\">\n",
       "  <thead>\n",
       "    <tr style=\"text-align: right;\">\n",
       "      <th></th>\n",
       "      <th>signal_name</th>\n",
       "      <th>mean_data</th>\n",
       "    </tr>\n",
       "  </thead>\n",
       "  <tbody>\n",
       "    <tr>\n",
       "      <th>0</th>\n",
       "      <td>sensor_data_temperature</td>\n",
       "      <td>43.298745</td>\n",
       "    </tr>\n",
       "  </tbody>\n",
       "</table>\n",
       "</div>"
      ],
      "text/plain": [
       "               signal_name  mean_data\n",
       "0  sensor_data_temperature  43.298745"
      ]
     },
     "metadata": {},
     "output_type": "display_data"
    }
   ],
   "source": [
    "import importlib\n",
    "\n",
    "# Reload the DuckPond module to pick up any changes\n",
    "import DiveDB.services.duck_pond\n",
    "importlib.reload(DiveDB.services.duck_pond)\n",
    "from DiveDB.services.duck_pond import DuckPond\n",
    "\n",
    "duckpond = DuckPond()\n",
    "\n",
    "label = \"sensor_data_temperature\"\n",
    "df = duckpond.conn.execute(f\"\"\"\n",
    "SELECT label, avg(value) as mean_data\n",
    "FROM (\n",
    "    SELECT label, unnest(values) as value\n",
    "    FROM DataLake\n",
    "    WHERE label = $1\n",
    ")\n",
    "GROUP BY label\n",
    "\"\"\", [label]).df()\n",
    "display(df)"
   ]
  },
  {
   "cell_type": "markdown",
   "metadata": {},
   "source": [
    "## Query Metadata Database\n",
    "We can also query the Metadata Database directly. This is useful for querying data that is not stored in Delta Lake and joining it for queries on measurement data.\n",
    "\n",
    "##### Example:"
   ]
  },
  {
   "cell_type": "code",
   "execution_count": null,
   "metadata": {},
   "outputs": [],
   "source": [
    "import importlib\n",
    "\n",
    "# Reload the DuckPond module to pick up any changes\n",
    "import DiveDB.services.duck_pond\n",
    "importlib.reload(DiveDB.services.duck_pond)\n",
    "from DiveDB.services.duck_pond import DuckPond\n",
    "\n",
    "duckpond = DuckPond()\n",
    "\n",
    "\n",
    "# Show all tables we have access to\n",
    "print(duckpond.get_db_schema())\n",
    "\n",
    "df = duckpond.conn.sql(\"\"\"\n",
    "SELECT unnest(values) as value\n",
    "FROM DataLake \n",
    "JOIN Metadata.public.Animals ON DataLake.animal = Animals.id\n",
    "WHERE Animals.project_id = 'test12_Wednesday'\n",
    "AND label = 'sensor_data_temperature'\n",
    "\"\"\").df()\n",
    "\n",
    "\n",
    "display(df)"
   ]
  },
  {
   "cell_type": "markdown",
   "metadata": {},
   "source": [
    "## Exporting Data to EDF\n",
    "When it's easier to work with EDF files, we can export the data to an EDF file. This is useful for working with the data in other software packages.\n",
    "\n",
    "The `create_mne_edf` function takes a DuckDB connection and a file path and creates an EDF file. \n",
    "\n",
    "*Note: it currently requires a lot of memory. Can be improved.*\n",
    "*Note: it's lacking support for most info fields in the EDF file. Can be improved.*\n",
    "\n",
    "##### Example:"
   ]
  },
  {
   "cell_type": "code",
   "execution_count": null,
   "metadata": {},
   "outputs": [],
   "source": [
    "import os\n",
    "import importlib\n",
    "import DiveDB.services.duck_pond\n",
    "import DiveDB.services.utils.edf\n",
    "importlib.reload(DiveDB.services.duck_pond)\n",
    "importlib.reload(DiveDB.services.utils.edf)\n",
    "\n",
    "from DiveDB.services.duck_pond import DuckPond\n",
    "from DiveDB.services.utils.edf import create_mne_edf\n",
    "\n",
    "duckpond = DuckPond()\n",
    "\n",
    "conn = duckpond.get_delta_data(    \n",
    "    animal_ids=\"mian-003\",\n",
    "    labels=[\"ECG_ICA2\", \"EEG_ICA5\"],\n",
    "    limit=1000000,\n",
    ")\n",
    "\n",
    "create_mne_edf(conn, \"test.edf\")"
   ]
  },
  {
   "cell_type": "markdown",
   "metadata": {},
   "source": [
    "## Exporting Data to MNE Signal Array\n",
    "For working with the data in MNE, we can export the data to an MNE Signal Array. This is useful for manipulating the data in MNE.\n",
    "\n",
    "The `create_mne_array` function takes a DuckDB connection and returns an MNE RawArray.\n",
    "\n",
    "##### Example:"
   ]
  },
  {
   "cell_type": "code",
   "execution_count": null,
   "metadata": {},
   "outputs": [],
   "source": [
    "import importlib\n",
    "import DiveDB.services.duck_pond\n",
    "importlib.reload(DiveDB.services.duck_pond)\n",
    "from DiveDB.services.duck_pond import DuckPond\n",
    "from DiveDB.services.utils.edf import create_mne_array\n",
    "\n",
    "duckpond = DuckPond()\n",
    "\n",
    "conn = duckpond.get_delta_data(    \n",
    "    animal_ids=\"mian-003\",\n",
    "    labels=\"ECG_ICA2\",\n",
    "    limit=1000000,\n",
    ")\n",
    "\n",
    "raw = create_mne_array(conn, resample=100, l_freq=1, h_freq=20)\n",
    "display(raw)"
   ]
  }
 ],
 "metadata": {
  "kernelspec": {
   "display_name": "Python 3 (ipykernel)",
   "language": "python",
   "name": "python3"
  },
  "language_info": {
   "codemirror_mode": {
    "name": "ipython",
    "version": 3
   },
   "file_extension": ".py",
   "mimetype": "text/x-python",
   "name": "python",
   "nbconvert_exporter": "python",
   "pygments_lexer": "ipython3",
   "version": "3.12.6"
  }
 },
 "nbformat": 4,
 "nbformat_minor": 2
}
