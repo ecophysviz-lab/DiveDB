{
 "cells": [
  {
   "cell_type": "code",
   "execution_count": 44,
   "metadata": {},
   "outputs": [
    {
     "name": "stdout",
     "output_type": "stream",
     "text": [
      "Pick from the following deployments in Notion or enter nothing to cancel:\n",
      "29\n",
      "28\n",
      "27\n",
      "26\n",
      "25\n",
      "24\n",
      "23\n",
      "22\n",
      "21\n",
      "20\n",
      "19\n",
      "18\n",
      "17\n",
      "16\n",
      "15\n",
      "14\n",
      "12\n",
      "7\n"
     ]
    },
    {
     "ename": "ValueError",
     "evalue": "No Notion record selected.",
     "output_type": "error",
     "traceback": [
      "\u001b[0;31m---------------------------------------------------------------------------\u001b[0m",
      "\u001b[0;31mValueError\u001b[0m                                Traceback (most recent call last)",
      "Cell \u001b[0;32mIn[44], line 28\u001b[0m\n\u001b[1;32m     19\u001b[0m metadata_file_path \u001b[38;5;241m=\u001b[39m \u001b[38;5;124m\"\u001b[39m\u001b[38;5;124m../data/files/Sleep Study Metadata.csv\u001b[39m\u001b[38;5;124m\"\u001b[39m\n\u001b[1;32m     21\u001b[0m metadata_map \u001b[38;5;241m=\u001b[39m {\n\u001b[1;32m     22\u001b[0m     \u001b[38;5;124m\"\u001b[39m\u001b[38;5;124manimal\u001b[39m\u001b[38;5;124m\"\u001b[39m: \u001b[38;5;124m\"\u001b[39m\u001b[38;5;124mNickname\u001b[39m\u001b[38;5;124m\"\u001b[39m,\n\u001b[1;32m     23\u001b[0m     \u001b[38;5;124m\"\u001b[39m\u001b[38;5;124mdeployment\u001b[39m\u001b[38;5;124m\"\u001b[39m: \u001b[38;5;124m\"\u001b[39m\u001b[38;5;124mDeployment\u001b[39m\u001b[38;5;124m\"\u001b[39m,\n\u001b[1;32m     24\u001b[0m     \u001b[38;5;124m\"\u001b[39m\u001b[38;5;124mlogger\u001b[39m\u001b[38;5;124m\"\u001b[39m: \u001b[38;5;124m\"\u001b[39m\u001b[38;5;124mLogger\u001b[39m\u001b[38;5;124m\"\u001b[39m,\n\u001b[1;32m     25\u001b[0m     \u001b[38;5;124m\"\u001b[39m\u001b[38;5;124mrecording\u001b[39m\u001b[38;5;124m\"\u001b[39m: \u001b[38;5;124m\"\u001b[39m\u001b[38;5;124mRecording ID\u001b[39m\u001b[38;5;124m\"\u001b[39m\n\u001b[1;32m     26\u001b[0m }\n\u001b[0;32m---> 28\u001b[0m \u001b[43mdata_uploader\u001b[49m\u001b[38;5;241;43m.\u001b[39;49m\u001b[43mupload_edf\u001b[49m\u001b[43m(\u001b[49m\u001b[43medf_file_paths\u001b[49m\u001b[43m,\u001b[49m\u001b[43m \u001b[49m\u001b[43mmetadata_file_path\u001b[49m\u001b[43m,\u001b[49m\u001b[43m \u001b[49m\u001b[43mmetadata_map\u001b[49m\u001b[43m,\u001b[49m\u001b[43m \u001b[49m\u001b[43mchannels\u001b[49m\u001b[38;5;241;43m=\u001b[39;49m\u001b[43m[\u001b[49m\u001b[38;5;124;43m\"\u001b[39;49m\u001b[38;5;124;43mECG_Raw_Ch1\u001b[39;49m\u001b[38;5;124;43m\"\u001b[39;49m\u001b[43m,\u001b[49m\u001b[43m \u001b[49m\u001b[38;5;124;43m\"\u001b[39;49m\u001b[38;5;124;43mECG_ICA8\u001b[39;49m\u001b[38;5;124;43m\"\u001b[39;49m\u001b[43m]\u001b[49m\u001b[43m)\u001b[49m\n",
      "File \u001b[0;32m/app/services/data_uploader.py:22\u001b[0m, in \u001b[0;36mDataUploader.upload_edf\u001b[0;34m(self, file_paths, csv_metadata_path, csv_metadata_map, channels)\u001b[0m\n\u001b[1;32m     19\u001b[0m \u001b[38;5;250m\u001b[39m\u001b[38;5;124;03m\"\"\"Upload EDF data\"\"\"\u001b[39;00m\n\u001b[1;32m     21\u001b[0m metadata_manager \u001b[38;5;241m=\u001b[39m MetadataManager()\n\u001b[0;32m---> 22\u001b[0m metadata_models \u001b[38;5;241m=\u001b[39m \u001b[43mmetadata_manager\u001b[49m\u001b[38;5;241;43m.\u001b[39;49m\u001b[43mget_metadata_models\u001b[49m\u001b[43m(\u001b[49m\n\u001b[1;32m     23\u001b[0m \u001b[43m    \u001b[49m\u001b[43mcsv_metadata_path\u001b[49m\u001b[43m,\u001b[49m\u001b[43m \u001b[49m\u001b[43mcsv_metadata_map\u001b[49m\n\u001b[1;32m     24\u001b[0m \u001b[43m\u001b[49m\u001b[43m)\u001b[49m\n",
      "File \u001b[0;32m/app/services/metadata_manager.py:445\u001b[0m, in \u001b[0;36mMetadataManager.get_metadata_models\u001b[0;34m(self, csv_metadata_path, csv_metadata_map)\u001b[0m\n\u001b[1;32m    443\u001b[0m \u001b[38;5;28mself\u001b[39m\u001b[38;5;241m.\u001b[39mcsv_metadata_map \u001b[38;5;241m=\u001b[39m csv_metadata_map\n\u001b[1;32m    444\u001b[0m animal \u001b[38;5;241m=\u001b[39m \u001b[38;5;28mself\u001b[39m\u001b[38;5;241m.\u001b[39mget_animal_from_csv()\n\u001b[0;32m--> 445\u001b[0m deployment \u001b[38;5;241m=\u001b[39m \u001b[38;5;28;43mself\u001b[39;49m\u001b[38;5;241;43m.\u001b[39;49m\u001b[43mget_deployment_from_csv\u001b[49m\u001b[43m(\u001b[49m\u001b[43m)\u001b[49m\n\u001b[1;32m    446\u001b[0m logger \u001b[38;5;241m=\u001b[39m \u001b[38;5;28mself\u001b[39m\u001b[38;5;241m.\u001b[39mget_logger_from_csv()\n\u001b[1;32m    447\u001b[0m recording \u001b[38;5;241m=\u001b[39m \u001b[38;5;28mself\u001b[39m\u001b[38;5;241m.\u001b[39mget_recording_from_csv()\n",
      "File \u001b[0;32m/app/services/metadata_manager.py:431\u001b[0m, in \u001b[0;36mMetadataManager.get_deployment_from_csv\u001b[0;34m(self)\u001b[0m\n\u001b[1;32m    430\u001b[0m \u001b[38;5;28;01mdef\u001b[39;00m \u001b[38;5;21mget_deployment_from_csv\u001b[39m(\u001b[38;5;28mself\u001b[39m):\n\u001b[0;32m--> 431\u001b[0m     \u001b[38;5;28;01mreturn\u001b[39;00m \u001b[38;5;28;43mself\u001b[39;49m\u001b[38;5;241;43m.\u001b[39;49m\u001b[43mget_metadata_from_csv\u001b[49m\u001b[43m(\u001b[49m\u001b[43mModelNames\u001b[49m\u001b[38;5;241;43m.\u001b[39;49m\u001b[43mDEPLOYMENT\u001b[49m\u001b[43m)\u001b[49m\n",
      "File \u001b[0;32m/app/services/metadata_manager.py:401\u001b[0m, in \u001b[0;36mMetadataManager.get_metadata_from_csv\u001b[0;34m(self, model_name)\u001b[0m\n\u001b[1;32m    399\u001b[0m notion_name \u001b[38;5;241m=\u001b[39m \u001b[38;5;28minput\u001b[39m(\u001b[38;5;124mf\u001b[39m\u001b[38;5;124m\"\u001b[39m\u001b[38;5;124mNotion \u001b[39m\u001b[38;5;132;01m{\u001b[39;00mmodel_name\u001b[38;5;241m.\u001b[39mvalue\u001b[38;5;241m.\u001b[39mcapitalize()\u001b[38;5;132;01m}\u001b[39;00m\u001b[38;5;124m Name: \u001b[39m\u001b[38;5;124m\"\u001b[39m)\n\u001b[1;32m    400\u001b[0m \u001b[38;5;28;01mif\u001b[39;00m notion_name \u001b[38;5;241m==\u001b[39m \u001b[38;5;124m\"\u001b[39m\u001b[38;5;124m\"\u001b[39m:\n\u001b[0;32m--> 401\u001b[0m     \u001b[38;5;28;01mraise\u001b[39;00m \u001b[38;5;167;01mValueError\u001b[39;00m(\u001b[38;5;124m\"\u001b[39m\u001b[38;5;124mNo Notion record selected.\u001b[39m\u001b[38;5;124m\"\u001b[39m)\n\u001b[1;32m    402\u001b[0m \u001b[38;5;28;01melse\u001b[39;00m:\n\u001b[1;32m    403\u001b[0m     \u001b[38;5;28;01mfor\u001b[39;00m notion_record \u001b[38;5;129;01min\u001b[39;00m notion_records:\n",
      "\u001b[0;31mValueError\u001b[0m: No Notion record selected."
     ]
    }
   ],
   "source": [
    "import os\n",
    "\n",
    "os.environ[\"DJANGO_ALLOW_ASYNC_UNSAFE\"] = \"true\"\n",
    "\n",
    "import importlib\n",
    "import services.data_uploader\n",
    "import services.metadata_manager\n",
    "importlib.reload(services.data_uploader)\n",
    "importlib.reload(services.metadata_manager)\n",
    "from services.data_uploader import DataUploader\n",
    "\n",
    "data_uploader = DataUploader()\n",
    "\n",
    "edf_file_paths = [\n",
    "    \"../data/files/test12_Wednesday_05_DAY1_PROCESSED.edf\",\n",
    "    \"../data/files/test12_Wednesday_05_DAY2_PROCESSED.edf\"\n",
    "]\n",
    "\n",
    "metadata_file_path = \"../data/files/Sleep Study Metadata.csv\"\n",
    "\n",
    "metadata_map = {\n",
    "    \"animal\": \"Nickname\",\n",
    "    \"deployment\": \"Deployment\",\n",
    "    \"logger\": \"Logger\",\n",
    "    \"recording\": \"Recording ID\"\n",
    "}\n",
    "\n",
    "data_uploader.upload_edf(edf_file_paths, metadata_file_path, metadata_map, channels=[\"ECG_Raw_Ch1\", \"ECG_ICA8\"])"
   ]
  },
  {
   "cell_type": "markdown",
   "metadata": {},
   "source": []
  }
 ],
 "metadata": {
  "kernelspec": {
   "display_name": "Python 3 (ipykernel)",
   "language": "python",
   "name": "python3"
  },
  "language_info": {
   "codemirror_mode": {
    "name": "ipython",
    "version": 3
   },
   "file_extension": ".py",
   "mimetype": "text/x-python",
   "name": "python",
   "nbconvert_exporter": "python",
   "pygments_lexer": "ipython3",
   "version": "3.12.5"
  }
 },
 "nbformat": 4,
 "nbformat_minor": 2
}
